{
  "nbformat": 4,
  "nbformat_minor": 0,
  "metadata": {
    "colab": {
      "name": "semantic_segmentation_notebook.ipynb",
      "provenance": [],
      "collapsed_sections": []
    },
    "kernelspec": {
      "display_name": "Python 3",
      "language": "python",
      "name": "python3"
    },
    "language_info": {
      "codemirror_mode": {
        "name": "ipython",
        "version": 3
      },
      "file_extension": ".py",
      "mimetype": "text/x-python",
      "name": "python",
      "nbconvert_exporter": "python",
      "pygments_lexer": "ipython3",
      "version": "3.7.1"
    },
    "toc": {
      "base_numbering": 1,
      "nav_menu": {},
      "number_sections": true,
      "sideBar": true,
      "skip_h1_title": false,
      "title_cell": "Table of Contents",
      "title_sidebar": "Contents",
      "toc_cell": false,
      "toc_position": {},
      "toc_section_display": true,
      "toc_window_display": false
    },
    "accelerator": "GPU",
    "widgets": {
      "application/vnd.jupyter.widget-state+json": {
        "a8d5f69f49da48aa9a4f2ea96f85e37f": {
          "model_module": "@jupyter-widgets/controls",
          "model_name": "HBoxModel",
          "state": {
            "_view_name": "HBoxView",
            "_dom_classes": [],
            "_model_name": "HBoxModel",
            "_view_module": "@jupyter-widgets/controls",
            "_model_module_version": "1.5.0",
            "_view_count": null,
            "_view_module_version": "1.5.0",
            "box_style": "",
            "layout": "IPY_MODEL_16f7c7964dcb4432813cbf627ec14e55",
            "_model_module": "@jupyter-widgets/controls",
            "children": [
              "IPY_MODEL_e6cccc4bed6b4e648760774c370fcf09",
              "IPY_MODEL_d7b45b4f70af4a348ac987df2f3b5134"
            ]
          }
        },
        "16f7c7964dcb4432813cbf627ec14e55": {
          "model_module": "@jupyter-widgets/base",
          "model_name": "LayoutModel",
          "state": {
            "_view_name": "LayoutView",
            "grid_template_rows": null,
            "right": null,
            "justify_content": null,
            "_view_module": "@jupyter-widgets/base",
            "overflow": null,
            "_model_module_version": "1.2.0",
            "_view_count": null,
            "flex_flow": null,
            "width": null,
            "min_width": null,
            "border": null,
            "align_items": null,
            "bottom": null,
            "_model_module": "@jupyter-widgets/base",
            "top": null,
            "grid_column": null,
            "overflow_y": null,
            "overflow_x": null,
            "grid_auto_flow": null,
            "grid_area": null,
            "grid_template_columns": null,
            "flex": null,
            "_model_name": "LayoutModel",
            "justify_items": null,
            "grid_row": null,
            "max_height": null,
            "align_content": null,
            "visibility": null,
            "align_self": null,
            "height": null,
            "min_height": null,
            "padding": null,
            "grid_auto_rows": null,
            "grid_gap": null,
            "max_width": null,
            "order": null,
            "_view_module_version": "1.2.0",
            "grid_template_areas": null,
            "object_position": null,
            "object_fit": null,
            "grid_auto_columns": null,
            "margin": null,
            "display": null,
            "left": null
          }
        },
        "e6cccc4bed6b4e648760774c370fcf09": {
          "model_module": "@jupyter-widgets/controls",
          "model_name": "FloatProgressModel",
          "state": {
            "_view_name": "ProgressView",
            "style": "IPY_MODEL_d04d663b334b4f36a4deebb7f278d488",
            "_dom_classes": [],
            "description": "100%",
            "_model_name": "FloatProgressModel",
            "bar_style": "success",
            "max": 532194478,
            "_view_module": "@jupyter-widgets/controls",
            "_model_module_version": "1.5.0",
            "value": 532194478,
            "_view_count": null,
            "_view_module_version": "1.5.0",
            "orientation": "horizontal",
            "min": 0,
            "description_tooltip": null,
            "_model_module": "@jupyter-widgets/controls",
            "layout": "IPY_MODEL_4ad124fe837843cb87c9eeee3860753f"
          }
        },
        "d7b45b4f70af4a348ac987df2f3b5134": {
          "model_module": "@jupyter-widgets/controls",
          "model_name": "HTMLModel",
          "state": {
            "_view_name": "HTMLView",
            "style": "IPY_MODEL_d88aea0f34ce47c5af36b720e3c67877",
            "_dom_classes": [],
            "description": "",
            "_model_name": "HTMLModel",
            "placeholder": "​",
            "_view_module": "@jupyter-widgets/controls",
            "_model_module_version": "1.5.0",
            "value": " 508M/508M [42:13&lt;00:00, 210kB/s]",
            "_view_count": null,
            "_view_module_version": "1.5.0",
            "description_tooltip": null,
            "_model_module": "@jupyter-widgets/controls",
            "layout": "IPY_MODEL_84b3d9d6f77d4179bf524ded9fb3e3e7"
          }
        },
        "d04d663b334b4f36a4deebb7f278d488": {
          "model_module": "@jupyter-widgets/controls",
          "model_name": "ProgressStyleModel",
          "state": {
            "_view_name": "StyleView",
            "_model_name": "ProgressStyleModel",
            "description_width": "initial",
            "_view_module": "@jupyter-widgets/base",
            "_model_module_version": "1.5.0",
            "_view_count": null,
            "_view_module_version": "1.2.0",
            "bar_color": null,
            "_model_module": "@jupyter-widgets/controls"
          }
        },
        "4ad124fe837843cb87c9eeee3860753f": {
          "model_module": "@jupyter-widgets/base",
          "model_name": "LayoutModel",
          "state": {
            "_view_name": "LayoutView",
            "grid_template_rows": null,
            "right": null,
            "justify_content": null,
            "_view_module": "@jupyter-widgets/base",
            "overflow": null,
            "_model_module_version": "1.2.0",
            "_view_count": null,
            "flex_flow": null,
            "width": null,
            "min_width": null,
            "border": null,
            "align_items": null,
            "bottom": null,
            "_model_module": "@jupyter-widgets/base",
            "top": null,
            "grid_column": null,
            "overflow_y": null,
            "overflow_x": null,
            "grid_auto_flow": null,
            "grid_area": null,
            "grid_template_columns": null,
            "flex": null,
            "_model_name": "LayoutModel",
            "justify_items": null,
            "grid_row": null,
            "max_height": null,
            "align_content": null,
            "visibility": null,
            "align_self": null,
            "height": null,
            "min_height": null,
            "padding": null,
            "grid_auto_rows": null,
            "grid_gap": null,
            "max_width": null,
            "order": null,
            "_view_module_version": "1.2.0",
            "grid_template_areas": null,
            "object_position": null,
            "object_fit": null,
            "grid_auto_columns": null,
            "margin": null,
            "display": null,
            "left": null
          }
        },
        "d88aea0f34ce47c5af36b720e3c67877": {
          "model_module": "@jupyter-widgets/controls",
          "model_name": "DescriptionStyleModel",
          "state": {
            "_view_name": "StyleView",
            "_model_name": "DescriptionStyleModel",
            "description_width": "",
            "_view_module": "@jupyter-widgets/base",
            "_model_module_version": "1.5.0",
            "_view_count": null,
            "_view_module_version": "1.2.0",
            "_model_module": "@jupyter-widgets/controls"
          }
        },
        "84b3d9d6f77d4179bf524ded9fb3e3e7": {
          "model_module": "@jupyter-widgets/base",
          "model_name": "LayoutModel",
          "state": {
            "_view_name": "LayoutView",
            "grid_template_rows": null,
            "right": null,
            "justify_content": null,
            "_view_module": "@jupyter-widgets/base",
            "overflow": null,
            "_model_module_version": "1.2.0",
            "_view_count": null,
            "flex_flow": null,
            "width": null,
            "min_width": null,
            "border": null,
            "align_items": null,
            "bottom": null,
            "_model_module": "@jupyter-widgets/base",
            "top": null,
            "grid_column": null,
            "overflow_y": null,
            "overflow_x": null,
            "grid_auto_flow": null,
            "grid_area": null,
            "grid_template_columns": null,
            "flex": null,
            "_model_name": "LayoutModel",
            "justify_items": null,
            "grid_row": null,
            "max_height": null,
            "align_content": null,
            "visibility": null,
            "align_self": null,
            "height": null,
            "min_height": null,
            "padding": null,
            "grid_auto_rows": null,
            "grid_gap": null,
            "max_width": null,
            "order": null,
            "_view_module_version": "1.2.0",
            "grid_template_areas": null,
            "object_position": null,
            "object_fit": null,
            "grid_auto_columns": null,
            "margin": null,
            "display": null,
            "left": null
          }
        },
        "ac8050988166400ba48d772f5e3148c8": {
          "model_module": "@jupyter-widgets/controls",
          "model_name": "HBoxModel",
          "state": {
            "_view_name": "HBoxView",
            "_dom_classes": [],
            "_model_name": "HBoxModel",
            "_view_module": "@jupyter-widgets/controls",
            "_model_module_version": "1.5.0",
            "_view_count": null,
            "_view_module_version": "1.5.0",
            "box_style": "",
            "layout": "IPY_MODEL_b9620135b046458e9235a1d3df0c0d0c",
            "_model_module": "@jupyter-widgets/controls",
            "children": [
              "IPY_MODEL_7d104129053f41b98c0915344a643059",
              "IPY_MODEL_5ba63182a4e24882bf7ac1b30d49914e"
            ]
          }
        },
        "b9620135b046458e9235a1d3df0c0d0c": {
          "model_module": "@jupyter-widgets/base",
          "model_name": "LayoutModel",
          "state": {
            "_view_name": "LayoutView",
            "grid_template_rows": null,
            "right": null,
            "justify_content": null,
            "_view_module": "@jupyter-widgets/base",
            "overflow": null,
            "_model_module_version": "1.2.0",
            "_view_count": null,
            "flex_flow": null,
            "width": null,
            "min_width": null,
            "border": null,
            "align_items": null,
            "bottom": null,
            "_model_module": "@jupyter-widgets/base",
            "top": null,
            "grid_column": null,
            "overflow_y": null,
            "overflow_x": null,
            "grid_auto_flow": null,
            "grid_area": null,
            "grid_template_columns": null,
            "flex": null,
            "_model_name": "LayoutModel",
            "justify_items": null,
            "grid_row": null,
            "max_height": null,
            "align_content": null,
            "visibility": null,
            "align_self": null,
            "height": null,
            "min_height": null,
            "padding": null,
            "grid_auto_rows": null,
            "grid_gap": null,
            "max_width": null,
            "order": null,
            "_view_module_version": "1.2.0",
            "grid_template_areas": null,
            "object_position": null,
            "object_fit": null,
            "grid_auto_columns": null,
            "margin": null,
            "display": null,
            "left": null
          }
        },
        "7d104129053f41b98c0915344a643059": {
          "model_module": "@jupyter-widgets/controls",
          "model_name": "FloatProgressModel",
          "state": {
            "_view_name": "ProgressView",
            "style": "IPY_MODEL_9d8df7ed2e0b4c15b586f74a1de0bdd2",
            "_dom_classes": [],
            "description": "100%",
            "_model_name": "FloatProgressModel",
            "bar_style": "success",
            "max": 30,
            "_view_module": "@jupyter-widgets/controls",
            "_model_module_version": "1.5.0",
            "value": 30,
            "_view_count": null,
            "_view_module_version": "1.5.0",
            "orientation": "horizontal",
            "min": 0,
            "description_tooltip": null,
            "_model_module": "@jupyter-widgets/controls",
            "layout": "IPY_MODEL_b8950042227c4f299766133de84dcddb"
          }
        },
        "5ba63182a4e24882bf7ac1b30d49914e": {
          "model_module": "@jupyter-widgets/controls",
          "model_name": "HTMLModel",
          "state": {
            "_view_name": "HTMLView",
            "style": "IPY_MODEL_869d3a0850ac4e3fb600c12dff599882",
            "_dom_classes": [],
            "description": "",
            "_model_name": "HTMLModel",
            "placeholder": "​",
            "_view_module": "@jupyter-widgets/controls",
            "_model_module_version": "1.5.0",
            "value": " 30/30 [41:39&lt;00:00, 83.31s/it]",
            "_view_count": null,
            "_view_module_version": "1.5.0",
            "description_tooltip": null,
            "_model_module": "@jupyter-widgets/controls",
            "layout": "IPY_MODEL_64aaa1a976b24533be4b5a46c67ea877"
          }
        },
        "9d8df7ed2e0b4c15b586f74a1de0bdd2": {
          "model_module": "@jupyter-widgets/controls",
          "model_name": "ProgressStyleModel",
          "state": {
            "_view_name": "StyleView",
            "_model_name": "ProgressStyleModel",
            "description_width": "initial",
            "_view_module": "@jupyter-widgets/base",
            "_model_module_version": "1.5.0",
            "_view_count": null,
            "_view_module_version": "1.2.0",
            "bar_color": null,
            "_model_module": "@jupyter-widgets/controls"
          }
        },
        "b8950042227c4f299766133de84dcddb": {
          "model_module": "@jupyter-widgets/base",
          "model_name": "LayoutModel",
          "state": {
            "_view_name": "LayoutView",
            "grid_template_rows": null,
            "right": null,
            "justify_content": null,
            "_view_module": "@jupyter-widgets/base",
            "overflow": null,
            "_model_module_version": "1.2.0",
            "_view_count": null,
            "flex_flow": null,
            "width": null,
            "min_width": null,
            "border": null,
            "align_items": null,
            "bottom": null,
            "_model_module": "@jupyter-widgets/base",
            "top": null,
            "grid_column": null,
            "overflow_y": null,
            "overflow_x": null,
            "grid_auto_flow": null,
            "grid_area": null,
            "grid_template_columns": null,
            "flex": null,
            "_model_name": "LayoutModel",
            "justify_items": null,
            "grid_row": null,
            "max_height": null,
            "align_content": null,
            "visibility": null,
            "align_self": null,
            "height": null,
            "min_height": null,
            "padding": null,
            "grid_auto_rows": null,
            "grid_gap": null,
            "max_width": null,
            "order": null,
            "_view_module_version": "1.2.0",
            "grid_template_areas": null,
            "object_position": null,
            "object_fit": null,
            "grid_auto_columns": null,
            "margin": null,
            "display": null,
            "left": null
          }
        },
        "869d3a0850ac4e3fb600c12dff599882": {
          "model_module": "@jupyter-widgets/controls",
          "model_name": "DescriptionStyleModel",
          "state": {
            "_view_name": "StyleView",
            "_model_name": "DescriptionStyleModel",
            "description_width": "",
            "_view_module": "@jupyter-widgets/base",
            "_model_module_version": "1.5.0",
            "_view_count": null,
            "_view_module_version": "1.2.0",
            "_model_module": "@jupyter-widgets/controls"
          }
        },
        "64aaa1a976b24533be4b5a46c67ea877": {
          "model_module": "@jupyter-widgets/base",
          "model_name": "LayoutModel",
          "state": {
            "_view_name": "LayoutView",
            "grid_template_rows": null,
            "right": null,
            "justify_content": null,
            "_view_module": "@jupyter-widgets/base",
            "overflow": null,
            "_model_module_version": "1.2.0",
            "_view_count": null,
            "flex_flow": null,
            "width": null,
            "min_width": null,
            "border": null,
            "align_items": null,
            "bottom": null,
            "_model_module": "@jupyter-widgets/base",
            "top": null,
            "grid_column": null,
            "overflow_y": null,
            "overflow_x": null,
            "grid_auto_flow": null,
            "grid_area": null,
            "grid_template_columns": null,
            "flex": null,
            "_model_name": "LayoutModel",
            "justify_items": null,
            "grid_row": null,
            "max_height": null,
            "align_content": null,
            "visibility": null,
            "align_self": null,
            "height": null,
            "min_height": null,
            "padding": null,
            "grid_auto_rows": null,
            "grid_gap": null,
            "max_width": null,
            "order": null,
            "_view_module_version": "1.2.0",
            "grid_template_areas": null,
            "object_position": null,
            "object_fit": null,
            "grid_auto_columns": null,
            "margin": null,
            "display": null,
            "left": null
          }
        },
        "181e5710eb404472b8aadedd58994408": {
          "model_module": "@jupyter-widgets/controls",
          "model_name": "HBoxModel",
          "state": {
            "_view_name": "HBoxView",
            "_dom_classes": [],
            "_model_name": "HBoxModel",
            "_view_module": "@jupyter-widgets/controls",
            "_model_module_version": "1.5.0",
            "_view_count": null,
            "_view_module_version": "1.5.0",
            "box_style": "",
            "layout": "IPY_MODEL_11c8f2aa923f441fabe99a04471144b5",
            "_model_module": "@jupyter-widgets/controls",
            "children": [
              "IPY_MODEL_82e71c82254147429432427a09c18174",
              "IPY_MODEL_b4e976db36b54a57a627c681289cb6a3"
            ]
          }
        },
        "11c8f2aa923f441fabe99a04471144b5": {
          "model_module": "@jupyter-widgets/base",
          "model_name": "LayoutModel",
          "state": {
            "_view_name": "LayoutView",
            "grid_template_rows": null,
            "right": null,
            "justify_content": null,
            "_view_module": "@jupyter-widgets/base",
            "overflow": null,
            "_model_module_version": "1.2.0",
            "_view_count": null,
            "flex_flow": null,
            "width": null,
            "min_width": null,
            "border": null,
            "align_items": null,
            "bottom": null,
            "_model_module": "@jupyter-widgets/base",
            "top": null,
            "grid_column": null,
            "overflow_y": null,
            "overflow_x": null,
            "grid_auto_flow": null,
            "grid_area": null,
            "grid_template_columns": null,
            "flex": null,
            "_model_name": "LayoutModel",
            "justify_items": null,
            "grid_row": null,
            "max_height": null,
            "align_content": null,
            "visibility": null,
            "align_self": null,
            "height": null,
            "min_height": null,
            "padding": null,
            "grid_auto_rows": null,
            "grid_gap": null,
            "max_width": null,
            "order": null,
            "_view_module_version": "1.2.0",
            "grid_template_areas": null,
            "object_position": null,
            "object_fit": null,
            "grid_auto_columns": null,
            "margin": null,
            "display": null,
            "left": null
          }
        },
        "82e71c82254147429432427a09c18174": {
          "model_module": "@jupyter-widgets/controls",
          "model_name": "FloatProgressModel",
          "state": {
            "_view_name": "ProgressView",
            "style": "IPY_MODEL_e1d248a2198a4344806b63a43499b85b",
            "_dom_classes": [],
            "description": "100%",
            "_model_name": "FloatProgressModel",
            "bar_style": "success",
            "max": 30,
            "_view_module": "@jupyter-widgets/controls",
            "_model_module_version": "1.5.0",
            "value": 30,
            "_view_count": null,
            "_view_module_version": "1.5.0",
            "orientation": "horizontal",
            "min": 0,
            "description_tooltip": null,
            "_model_module": "@jupyter-widgets/controls",
            "layout": "IPY_MODEL_d83a6886ed8f4197a496a302c1e5286c"
          }
        },
        "b4e976db36b54a57a627c681289cb6a3": {
          "model_module": "@jupyter-widgets/controls",
          "model_name": "HTMLModel",
          "state": {
            "_view_name": "HTMLView",
            "style": "IPY_MODEL_dc49e944dcb94112bae98e24d3e22807",
            "_dom_classes": [],
            "description": "",
            "_model_name": "HTMLModel",
            "placeholder": "​",
            "_view_module": "@jupyter-widgets/controls",
            "_model_module_version": "1.5.0",
            "value": " 30/30 [32:15&lt;00:00, 64.50s/it]",
            "_view_count": null,
            "_view_module_version": "1.5.0",
            "description_tooltip": null,
            "_model_module": "@jupyter-widgets/controls",
            "layout": "IPY_MODEL_21d9dc68a8844674b9b10cb826704247"
          }
        },
        "e1d248a2198a4344806b63a43499b85b": {
          "model_module": "@jupyter-widgets/controls",
          "model_name": "ProgressStyleModel",
          "state": {
            "_view_name": "StyleView",
            "_model_name": "ProgressStyleModel",
            "description_width": "initial",
            "_view_module": "@jupyter-widgets/base",
            "_model_module_version": "1.5.0",
            "_view_count": null,
            "_view_module_version": "1.2.0",
            "bar_color": null,
            "_model_module": "@jupyter-widgets/controls"
          }
        },
        "d83a6886ed8f4197a496a302c1e5286c": {
          "model_module": "@jupyter-widgets/base",
          "model_name": "LayoutModel",
          "state": {
            "_view_name": "LayoutView",
            "grid_template_rows": null,
            "right": null,
            "justify_content": null,
            "_view_module": "@jupyter-widgets/base",
            "overflow": null,
            "_model_module_version": "1.2.0",
            "_view_count": null,
            "flex_flow": null,
            "width": null,
            "min_width": null,
            "border": null,
            "align_items": null,
            "bottom": null,
            "_model_module": "@jupyter-widgets/base",
            "top": null,
            "grid_column": null,
            "overflow_y": null,
            "overflow_x": null,
            "grid_auto_flow": null,
            "grid_area": null,
            "grid_template_columns": null,
            "flex": null,
            "_model_name": "LayoutModel",
            "justify_items": null,
            "grid_row": null,
            "max_height": null,
            "align_content": null,
            "visibility": null,
            "align_self": null,
            "height": null,
            "min_height": null,
            "padding": null,
            "grid_auto_rows": null,
            "grid_gap": null,
            "max_width": null,
            "order": null,
            "_view_module_version": "1.2.0",
            "grid_template_areas": null,
            "object_position": null,
            "object_fit": null,
            "grid_auto_columns": null,
            "margin": null,
            "display": null,
            "left": null
          }
        },
        "dc49e944dcb94112bae98e24d3e22807": {
          "model_module": "@jupyter-widgets/controls",
          "model_name": "DescriptionStyleModel",
          "state": {
            "_view_name": "StyleView",
            "_model_name": "DescriptionStyleModel",
            "description_width": "",
            "_view_module": "@jupyter-widgets/base",
            "_model_module_version": "1.5.0",
            "_view_count": null,
            "_view_module_version": "1.2.0",
            "_model_module": "@jupyter-widgets/controls"
          }
        },
        "21d9dc68a8844674b9b10cb826704247": {
          "model_module": "@jupyter-widgets/base",
          "model_name": "LayoutModel",
          "state": {
            "_view_name": "LayoutView",
            "grid_template_rows": null,
            "right": null,
            "justify_content": null,
            "_view_module": "@jupyter-widgets/base",
            "overflow": null,
            "_model_module_version": "1.2.0",
            "_view_count": null,
            "flex_flow": null,
            "width": null,
            "min_width": null,
            "border": null,
            "align_items": null,
            "bottom": null,
            "_model_module": "@jupyter-widgets/base",
            "top": null,
            "grid_column": null,
            "overflow_y": null,
            "overflow_x": null,
            "grid_auto_flow": null,
            "grid_area": null,
            "grid_template_columns": null,
            "flex": null,
            "_model_name": "LayoutModel",
            "justify_items": null,
            "grid_row": null,
            "max_height": null,
            "align_content": null,
            "visibility": null,
            "align_self": null,
            "height": null,
            "min_height": null,
            "padding": null,
            "grid_auto_rows": null,
            "grid_gap": null,
            "max_width": null,
            "order": null,
            "_view_module_version": "1.2.0",
            "grid_template_areas": null,
            "object_position": null,
            "object_fit": null,
            "grid_auto_columns": null,
            "margin": null,
            "display": null,
            "left": null
          }
        },
        "60bca210d38f4cce908580e41581f9ec": {
          "model_module": "@jupyter-widgets/controls",
          "model_name": "HBoxModel",
          "state": {
            "_view_name": "HBoxView",
            "_dom_classes": [],
            "_model_name": "HBoxModel",
            "_view_module": "@jupyter-widgets/controls",
            "_model_module_version": "1.5.0",
            "_view_count": null,
            "_view_module_version": "1.5.0",
            "box_style": "",
            "layout": "IPY_MODEL_a0de79562394408dbe70c8719269f28e",
            "_model_module": "@jupyter-widgets/controls",
            "children": [
              "IPY_MODEL_a529d2e0bc7440fc929f542c3b83c509",
              "IPY_MODEL_a5b251472cc34257b1b5605423393f5a"
            ]
          }
        },
        "a0de79562394408dbe70c8719269f28e": {
          "model_module": "@jupyter-widgets/base",
          "model_name": "LayoutModel",
          "state": {
            "_view_name": "LayoutView",
            "grid_template_rows": null,
            "right": null,
            "justify_content": null,
            "_view_module": "@jupyter-widgets/base",
            "overflow": null,
            "_model_module_version": "1.2.0",
            "_view_count": null,
            "flex_flow": null,
            "width": null,
            "min_width": null,
            "border": null,
            "align_items": null,
            "bottom": null,
            "_model_module": "@jupyter-widgets/base",
            "top": null,
            "grid_column": null,
            "overflow_y": null,
            "overflow_x": null,
            "grid_auto_flow": null,
            "grid_area": null,
            "grid_template_columns": null,
            "flex": null,
            "_model_name": "LayoutModel",
            "justify_items": null,
            "grid_row": null,
            "max_height": null,
            "align_content": null,
            "visibility": null,
            "align_self": null,
            "height": null,
            "min_height": null,
            "padding": null,
            "grid_auto_rows": null,
            "grid_gap": null,
            "max_width": null,
            "order": null,
            "_view_module_version": "1.2.0",
            "grid_template_areas": null,
            "object_position": null,
            "object_fit": null,
            "grid_auto_columns": null,
            "margin": null,
            "display": null,
            "left": null
          }
        },
        "a529d2e0bc7440fc929f542c3b83c509": {
          "model_module": "@jupyter-widgets/controls",
          "model_name": "FloatProgressModel",
          "state": {
            "_view_name": "ProgressView",
            "style": "IPY_MODEL_8490c019657b4958a1ca03360a6cd06d",
            "_dom_classes": [],
            "description": "100%",
            "_model_name": "FloatProgressModel",
            "bar_style": "success",
            "max": 30,
            "_view_module": "@jupyter-widgets/controls",
            "_model_module_version": "1.5.0",
            "value": 30,
            "_view_count": null,
            "_view_module_version": "1.5.0",
            "orientation": "horizontal",
            "min": 0,
            "description_tooltip": null,
            "_model_module": "@jupyter-widgets/controls",
            "layout": "IPY_MODEL_4d6ff8144eab4376999d3044b347f1f4"
          }
        },
        "a5b251472cc34257b1b5605423393f5a": {
          "model_module": "@jupyter-widgets/controls",
          "model_name": "HTMLModel",
          "state": {
            "_view_name": "HTMLView",
            "style": "IPY_MODEL_717c6c068bbc4874b953c4b9ade16939",
            "_dom_classes": [],
            "description": "",
            "_model_name": "HTMLModel",
            "placeholder": "​",
            "_view_module": "@jupyter-widgets/controls",
            "_model_module_version": "1.5.0",
            "value": " 30/30 [31:51&lt;00:00, 63.72s/it]",
            "_view_count": null,
            "_view_module_version": "1.5.0",
            "description_tooltip": null,
            "_model_module": "@jupyter-widgets/controls",
            "layout": "IPY_MODEL_8d30de05ff5f4d3a9da0277cc92c8752"
          }
        },
        "8490c019657b4958a1ca03360a6cd06d": {
          "model_module": "@jupyter-widgets/controls",
          "model_name": "ProgressStyleModel",
          "state": {
            "_view_name": "StyleView",
            "_model_name": "ProgressStyleModel",
            "description_width": "initial",
            "_view_module": "@jupyter-widgets/base",
            "_model_module_version": "1.5.0",
            "_view_count": null,
            "_view_module_version": "1.2.0",
            "bar_color": null,
            "_model_module": "@jupyter-widgets/controls"
          }
        },
        "4d6ff8144eab4376999d3044b347f1f4": {
          "model_module": "@jupyter-widgets/base",
          "model_name": "LayoutModel",
          "state": {
            "_view_name": "LayoutView",
            "grid_template_rows": null,
            "right": null,
            "justify_content": null,
            "_view_module": "@jupyter-widgets/base",
            "overflow": null,
            "_model_module_version": "1.2.0",
            "_view_count": null,
            "flex_flow": null,
            "width": null,
            "min_width": null,
            "border": null,
            "align_items": null,
            "bottom": null,
            "_model_module": "@jupyter-widgets/base",
            "top": null,
            "grid_column": null,
            "overflow_y": null,
            "overflow_x": null,
            "grid_auto_flow": null,
            "grid_area": null,
            "grid_template_columns": null,
            "flex": null,
            "_model_name": "LayoutModel",
            "justify_items": null,
            "grid_row": null,
            "max_height": null,
            "align_content": null,
            "visibility": null,
            "align_self": null,
            "height": null,
            "min_height": null,
            "padding": null,
            "grid_auto_rows": null,
            "grid_gap": null,
            "max_width": null,
            "order": null,
            "_view_module_version": "1.2.0",
            "grid_template_areas": null,
            "object_position": null,
            "object_fit": null,
            "grid_auto_columns": null,
            "margin": null,
            "display": null,
            "left": null
          }
        },
        "717c6c068bbc4874b953c4b9ade16939": {
          "model_module": "@jupyter-widgets/controls",
          "model_name": "DescriptionStyleModel",
          "state": {
            "_view_name": "StyleView",
            "_model_name": "DescriptionStyleModel",
            "description_width": "",
            "_view_module": "@jupyter-widgets/base",
            "_model_module_version": "1.5.0",
            "_view_count": null,
            "_view_module_version": "1.2.0",
            "_model_module": "@jupyter-widgets/controls"
          }
        },
        "8d30de05ff5f4d3a9da0277cc92c8752": {
          "model_module": "@jupyter-widgets/base",
          "model_name": "LayoutModel",
          "state": {
            "_view_name": "LayoutView",
            "grid_template_rows": null,
            "right": null,
            "justify_content": null,
            "_view_module": "@jupyter-widgets/base",
            "overflow": null,
            "_model_module_version": "1.2.0",
            "_view_count": null,
            "flex_flow": null,
            "width": null,
            "min_width": null,
            "border": null,
            "align_items": null,
            "bottom": null,
            "_model_module": "@jupyter-widgets/base",
            "top": null,
            "grid_column": null,
            "overflow_y": null,
            "overflow_x": null,
            "grid_auto_flow": null,
            "grid_area": null,
            "grid_template_columns": null,
            "flex": null,
            "_model_name": "LayoutModel",
            "justify_items": null,
            "grid_row": null,
            "max_height": null,
            "align_content": null,
            "visibility": null,
            "align_self": null,
            "height": null,
            "min_height": null,
            "padding": null,
            "grid_auto_rows": null,
            "grid_gap": null,
            "max_width": null,
            "order": null,
            "_view_module_version": "1.2.0",
            "grid_template_areas": null,
            "object_position": null,
            "object_fit": null,
            "grid_auto_columns": null,
            "margin": null,
            "display": null,
            "left": null
          }
        },
        "8425532cb10f42dabf562852171c19fe": {
          "model_module": "@jupyter-widgets/controls",
          "model_name": "HBoxModel",
          "state": {
            "_view_name": "HBoxView",
            "_dom_classes": [],
            "_model_name": "HBoxModel",
            "_view_module": "@jupyter-widgets/controls",
            "_model_module_version": "1.5.0",
            "_view_count": null,
            "_view_module_version": "1.5.0",
            "box_style": "",
            "layout": "IPY_MODEL_4e2fd555a88047a9a6209d426ec9201c",
            "_model_module": "@jupyter-widgets/controls",
            "children": [
              "IPY_MODEL_b049d68296d4432580003ef0acdc7bc7",
              "IPY_MODEL_9cedb04d00eb422589a2bc7ec8a676df"
            ]
          }
        },
        "4e2fd555a88047a9a6209d426ec9201c": {
          "model_module": "@jupyter-widgets/base",
          "model_name": "LayoutModel",
          "state": {
            "_view_name": "LayoutView",
            "grid_template_rows": null,
            "right": null,
            "justify_content": null,
            "_view_module": "@jupyter-widgets/base",
            "overflow": null,
            "_model_module_version": "1.2.0",
            "_view_count": null,
            "flex_flow": null,
            "width": null,
            "min_width": null,
            "border": null,
            "align_items": null,
            "bottom": null,
            "_model_module": "@jupyter-widgets/base",
            "top": null,
            "grid_column": null,
            "overflow_y": null,
            "overflow_x": null,
            "grid_auto_flow": null,
            "grid_area": null,
            "grid_template_columns": null,
            "flex": null,
            "_model_name": "LayoutModel",
            "justify_items": null,
            "grid_row": null,
            "max_height": null,
            "align_content": null,
            "visibility": null,
            "align_self": null,
            "height": null,
            "min_height": null,
            "padding": null,
            "grid_auto_rows": null,
            "grid_gap": null,
            "max_width": null,
            "order": null,
            "_view_module_version": "1.2.0",
            "grid_template_areas": null,
            "object_position": null,
            "object_fit": null,
            "grid_auto_columns": null,
            "margin": null,
            "display": null,
            "left": null
          }
        },
        "b049d68296d4432580003ef0acdc7bc7": {
          "model_module": "@jupyter-widgets/controls",
          "model_name": "FloatProgressModel",
          "state": {
            "_view_name": "ProgressView",
            "style": "IPY_MODEL_5ffcc1df043244738ef21d7c6af21d18",
            "_dom_classes": [],
            "description": "100%",
            "_model_name": "FloatProgressModel",
            "bar_style": "success",
            "max": 30,
            "_view_module": "@jupyter-widgets/controls",
            "_model_module_version": "1.5.0",
            "value": 30,
            "_view_count": null,
            "_view_module_version": "1.5.0",
            "orientation": "horizontal",
            "min": 0,
            "description_tooltip": null,
            "_model_module": "@jupyter-widgets/controls",
            "layout": "IPY_MODEL_9d6181dcdd1a46fbb2b60d5ceaabfe8e"
          }
        },
        "9cedb04d00eb422589a2bc7ec8a676df": {
          "model_module": "@jupyter-widgets/controls",
          "model_name": "HTMLModel",
          "state": {
            "_view_name": "HTMLView",
            "style": "IPY_MODEL_61c1962ccff7441baacf1abca06124f1",
            "_dom_classes": [],
            "description": "",
            "_model_name": "HTMLModel",
            "placeholder": "​",
            "_view_module": "@jupyter-widgets/controls",
            "_model_module_version": "1.5.0",
            "value": " 30/30 [27:14&lt;00:00, 54.47s/it]",
            "_view_count": null,
            "_view_module_version": "1.5.0",
            "description_tooltip": null,
            "_model_module": "@jupyter-widgets/controls",
            "layout": "IPY_MODEL_a6d6a4976c54472fa6515a32520093c4"
          }
        },
        "5ffcc1df043244738ef21d7c6af21d18": {
          "model_module": "@jupyter-widgets/controls",
          "model_name": "ProgressStyleModel",
          "state": {
            "_view_name": "StyleView",
            "_model_name": "ProgressStyleModel",
            "description_width": "initial",
            "_view_module": "@jupyter-widgets/base",
            "_model_module_version": "1.5.0",
            "_view_count": null,
            "_view_module_version": "1.2.0",
            "bar_color": null,
            "_model_module": "@jupyter-widgets/controls"
          }
        },
        "9d6181dcdd1a46fbb2b60d5ceaabfe8e": {
          "model_module": "@jupyter-widgets/base",
          "model_name": "LayoutModel",
          "state": {
            "_view_name": "LayoutView",
            "grid_template_rows": null,
            "right": null,
            "justify_content": null,
            "_view_module": "@jupyter-widgets/base",
            "overflow": null,
            "_model_module_version": "1.2.0",
            "_view_count": null,
            "flex_flow": null,
            "width": null,
            "min_width": null,
            "border": null,
            "align_items": null,
            "bottom": null,
            "_model_module": "@jupyter-widgets/base",
            "top": null,
            "grid_column": null,
            "overflow_y": null,
            "overflow_x": null,
            "grid_auto_flow": null,
            "grid_area": null,
            "grid_template_columns": null,
            "flex": null,
            "_model_name": "LayoutModel",
            "justify_items": null,
            "grid_row": null,
            "max_height": null,
            "align_content": null,
            "visibility": null,
            "align_self": null,
            "height": null,
            "min_height": null,
            "padding": null,
            "grid_auto_rows": null,
            "grid_gap": null,
            "max_width": null,
            "order": null,
            "_view_module_version": "1.2.0",
            "grid_template_areas": null,
            "object_position": null,
            "object_fit": null,
            "grid_auto_columns": null,
            "margin": null,
            "display": null,
            "left": null
          }
        },
        "61c1962ccff7441baacf1abca06124f1": {
          "model_module": "@jupyter-widgets/controls",
          "model_name": "DescriptionStyleModel",
          "state": {
            "_view_name": "StyleView",
            "_model_name": "DescriptionStyleModel",
            "description_width": "",
            "_view_module": "@jupyter-widgets/base",
            "_model_module_version": "1.5.0",
            "_view_count": null,
            "_view_module_version": "1.2.0",
            "_model_module": "@jupyter-widgets/controls"
          }
        },
        "a6d6a4976c54472fa6515a32520093c4": {
          "model_module": "@jupyter-widgets/base",
          "model_name": "LayoutModel",
          "state": {
            "_view_name": "LayoutView",
            "grid_template_rows": null,
            "right": null,
            "justify_content": null,
            "_view_module": "@jupyter-widgets/base",
            "overflow": null,
            "_model_module_version": "1.2.0",
            "_view_count": null,
            "flex_flow": null,
            "width": null,
            "min_width": null,
            "border": null,
            "align_items": null,
            "bottom": null,
            "_model_module": "@jupyter-widgets/base",
            "top": null,
            "grid_column": null,
            "overflow_y": null,
            "overflow_x": null,
            "grid_auto_flow": null,
            "grid_area": null,
            "grid_template_columns": null,
            "flex": null,
            "_model_name": "LayoutModel",
            "justify_items": null,
            "grid_row": null,
            "max_height": null,
            "align_content": null,
            "visibility": null,
            "align_self": null,
            "height": null,
            "min_height": null,
            "padding": null,
            "grid_auto_rows": null,
            "grid_gap": null,
            "max_width": null,
            "order": null,
            "_view_module_version": "1.2.0",
            "grid_template_areas": null,
            "object_position": null,
            "object_fit": null,
            "grid_auto_columns": null,
            "margin": null,
            "display": null,
            "left": null
          }
        },
        "1a9d867344834828b224824c977d1ccc": {
          "model_module": "@jupyter-widgets/controls",
          "model_name": "HBoxModel",
          "state": {
            "_view_name": "HBoxView",
            "_dom_classes": [],
            "_model_name": "HBoxModel",
            "_view_module": "@jupyter-widgets/controls",
            "_model_module_version": "1.5.0",
            "_view_count": null,
            "_view_module_version": "1.5.0",
            "box_style": "",
            "layout": "IPY_MODEL_2f20cd4bf2fb4a8091aa3e811b56d828",
            "_model_module": "@jupyter-widgets/controls",
            "children": [
              "IPY_MODEL_c92fa424f96640d8b1c90ebf0c933b2f",
              "IPY_MODEL_6f1a6b0aad57475c87446734d68d3be9"
            ]
          }
        },
        "2f20cd4bf2fb4a8091aa3e811b56d828": {
          "model_module": "@jupyter-widgets/base",
          "model_name": "LayoutModel",
          "state": {
            "_view_name": "LayoutView",
            "grid_template_rows": null,
            "right": null,
            "justify_content": null,
            "_view_module": "@jupyter-widgets/base",
            "overflow": null,
            "_model_module_version": "1.2.0",
            "_view_count": null,
            "flex_flow": null,
            "width": null,
            "min_width": null,
            "border": null,
            "align_items": null,
            "bottom": null,
            "_model_module": "@jupyter-widgets/base",
            "top": null,
            "grid_column": null,
            "overflow_y": null,
            "overflow_x": null,
            "grid_auto_flow": null,
            "grid_area": null,
            "grid_template_columns": null,
            "flex": null,
            "_model_name": "LayoutModel",
            "justify_items": null,
            "grid_row": null,
            "max_height": null,
            "align_content": null,
            "visibility": null,
            "align_self": null,
            "height": null,
            "min_height": null,
            "padding": null,
            "grid_auto_rows": null,
            "grid_gap": null,
            "max_width": null,
            "order": null,
            "_view_module_version": "1.2.0",
            "grid_template_areas": null,
            "object_position": null,
            "object_fit": null,
            "grid_auto_columns": null,
            "margin": null,
            "display": null,
            "left": null
          }
        },
        "c92fa424f96640d8b1c90ebf0c933b2f": {
          "model_module": "@jupyter-widgets/controls",
          "model_name": "FloatProgressModel",
          "state": {
            "_view_name": "ProgressView",
            "style": "IPY_MODEL_3bb213b2b6544e218ecc9e3f027f59ed",
            "_dom_classes": [],
            "description": "100%",
            "_model_name": "FloatProgressModel",
            "bar_style": "success",
            "max": 30,
            "_view_module": "@jupyter-widgets/controls",
            "_model_module_version": "1.5.0",
            "value": 30,
            "_view_count": null,
            "_view_module_version": "1.5.0",
            "orientation": "horizontal",
            "min": 0,
            "description_tooltip": null,
            "_model_module": "@jupyter-widgets/controls",
            "layout": "IPY_MODEL_9051316e71fc4bf48bd2f121df785f11"
          }
        },
        "6f1a6b0aad57475c87446734d68d3be9": {
          "model_module": "@jupyter-widgets/controls",
          "model_name": "HTMLModel",
          "state": {
            "_view_name": "HTMLView",
            "style": "IPY_MODEL_106bf49afec14a659f591187c7bbf4ad",
            "_dom_classes": [],
            "description": "",
            "_model_name": "HTMLModel",
            "placeholder": "​",
            "_view_module": "@jupyter-widgets/controls",
            "_model_module_version": "1.5.0",
            "value": " 30/30 [30:47&lt;00:00, 61.57s/it]",
            "_view_count": null,
            "_view_module_version": "1.5.0",
            "description_tooltip": null,
            "_model_module": "@jupyter-widgets/controls",
            "layout": "IPY_MODEL_07084a7224b547dcbb75269e80005ece"
          }
        },
        "3bb213b2b6544e218ecc9e3f027f59ed": {
          "model_module": "@jupyter-widgets/controls",
          "model_name": "ProgressStyleModel",
          "state": {
            "_view_name": "StyleView",
            "_model_name": "ProgressStyleModel",
            "description_width": "initial",
            "_view_module": "@jupyter-widgets/base",
            "_model_module_version": "1.5.0",
            "_view_count": null,
            "_view_module_version": "1.2.0",
            "bar_color": null,
            "_model_module": "@jupyter-widgets/controls"
          }
        },
        "9051316e71fc4bf48bd2f121df785f11": {
          "model_module": "@jupyter-widgets/base",
          "model_name": "LayoutModel",
          "state": {
            "_view_name": "LayoutView",
            "grid_template_rows": null,
            "right": null,
            "justify_content": null,
            "_view_module": "@jupyter-widgets/base",
            "overflow": null,
            "_model_module_version": "1.2.0",
            "_view_count": null,
            "flex_flow": null,
            "width": null,
            "min_width": null,
            "border": null,
            "align_items": null,
            "bottom": null,
            "_model_module": "@jupyter-widgets/base",
            "top": null,
            "grid_column": null,
            "overflow_y": null,
            "overflow_x": null,
            "grid_auto_flow": null,
            "grid_area": null,
            "grid_template_columns": null,
            "flex": null,
            "_model_name": "LayoutModel",
            "justify_items": null,
            "grid_row": null,
            "max_height": null,
            "align_content": null,
            "visibility": null,
            "align_self": null,
            "height": null,
            "min_height": null,
            "padding": null,
            "grid_auto_rows": null,
            "grid_gap": null,
            "max_width": null,
            "order": null,
            "_view_module_version": "1.2.0",
            "grid_template_areas": null,
            "object_position": null,
            "object_fit": null,
            "grid_auto_columns": null,
            "margin": null,
            "display": null,
            "left": null
          }
        },
        "106bf49afec14a659f591187c7bbf4ad": {
          "model_module": "@jupyter-widgets/controls",
          "model_name": "DescriptionStyleModel",
          "state": {
            "_view_name": "StyleView",
            "_model_name": "DescriptionStyleModel",
            "description_width": "",
            "_view_module": "@jupyter-widgets/base",
            "_model_module_version": "1.5.0",
            "_view_count": null,
            "_view_module_version": "1.2.0",
            "_model_module": "@jupyter-widgets/controls"
          }
        },
        "07084a7224b547dcbb75269e80005ece": {
          "model_module": "@jupyter-widgets/base",
          "model_name": "LayoutModel",
          "state": {
            "_view_name": "LayoutView",
            "grid_template_rows": null,
            "right": null,
            "justify_content": null,
            "_view_module": "@jupyter-widgets/base",
            "overflow": null,
            "_model_module_version": "1.2.0",
            "_view_count": null,
            "flex_flow": null,
            "width": null,
            "min_width": null,
            "border": null,
            "align_items": null,
            "bottom": null,
            "_model_module": "@jupyter-widgets/base",
            "top": null,
            "grid_column": null,
            "overflow_y": null,
            "overflow_x": null,
            "grid_auto_flow": null,
            "grid_area": null,
            "grid_template_columns": null,
            "flex": null,
            "_model_name": "LayoutModel",
            "justify_items": null,
            "grid_row": null,
            "max_height": null,
            "align_content": null,
            "visibility": null,
            "align_self": null,
            "height": null,
            "min_height": null,
            "padding": null,
            "grid_auto_rows": null,
            "grid_gap": null,
            "max_width": null,
            "order": null,
            "_view_module_version": "1.2.0",
            "grid_template_areas": null,
            "object_position": null,
            "object_fit": null,
            "grid_auto_columns": null,
            "margin": null,
            "display": null,
            "left": null
          }
        },
        "cbd48563ed5f46fbaf15c90e36504031": {
          "model_module": "@jupyter-widgets/controls",
          "model_name": "HBoxModel",
          "state": {
            "_view_name": "HBoxView",
            "_dom_classes": [],
            "_model_name": "HBoxModel",
            "_view_module": "@jupyter-widgets/controls",
            "_model_module_version": "1.5.0",
            "_view_count": null,
            "_view_module_version": "1.5.0",
            "box_style": "",
            "layout": "IPY_MODEL_8f769b3722be462585eb27a1e671c921",
            "_model_module": "@jupyter-widgets/controls",
            "children": [
              "IPY_MODEL_71cfa7b116844cc0988330e7a6e8a067",
              "IPY_MODEL_62f8a654cef643d9918f6947091a65f5"
            ]
          }
        },
        "8f769b3722be462585eb27a1e671c921": {
          "model_module": "@jupyter-widgets/base",
          "model_name": "LayoutModel",
          "state": {
            "_view_name": "LayoutView",
            "grid_template_rows": null,
            "right": null,
            "justify_content": null,
            "_view_module": "@jupyter-widgets/base",
            "overflow": null,
            "_model_module_version": "1.2.0",
            "_view_count": null,
            "flex_flow": null,
            "width": null,
            "min_width": null,
            "border": null,
            "align_items": null,
            "bottom": null,
            "_model_module": "@jupyter-widgets/base",
            "top": null,
            "grid_column": null,
            "overflow_y": null,
            "overflow_x": null,
            "grid_auto_flow": null,
            "grid_area": null,
            "grid_template_columns": null,
            "flex": null,
            "_model_name": "LayoutModel",
            "justify_items": null,
            "grid_row": null,
            "max_height": null,
            "align_content": null,
            "visibility": null,
            "align_self": null,
            "height": null,
            "min_height": null,
            "padding": null,
            "grid_auto_rows": null,
            "grid_gap": null,
            "max_width": null,
            "order": null,
            "_view_module_version": "1.2.0",
            "grid_template_areas": null,
            "object_position": null,
            "object_fit": null,
            "grid_auto_columns": null,
            "margin": null,
            "display": null,
            "left": null
          }
        },
        "71cfa7b116844cc0988330e7a6e8a067": {
          "model_module": "@jupyter-widgets/controls",
          "model_name": "FloatProgressModel",
          "state": {
            "_view_name": "ProgressView",
            "style": "IPY_MODEL_265b68c7d7834d918b5a293b91903511",
            "_dom_classes": [],
            "description": "100%",
            "_model_name": "FloatProgressModel",
            "bar_style": "success",
            "max": 30,
            "_view_module": "@jupyter-widgets/controls",
            "_model_module_version": "1.5.0",
            "value": 30,
            "_view_count": null,
            "_view_module_version": "1.5.0",
            "orientation": "horizontal",
            "min": 0,
            "description_tooltip": null,
            "_model_module": "@jupyter-widgets/controls",
            "layout": "IPY_MODEL_3145ca685ea34e22a30e831693f228a5"
          }
        },
        "62f8a654cef643d9918f6947091a65f5": {
          "model_module": "@jupyter-widgets/controls",
          "model_name": "HTMLModel",
          "state": {
            "_view_name": "HTMLView",
            "style": "IPY_MODEL_614c73baf47247a38ac9d04a375674ca",
            "_dom_classes": [],
            "description": "",
            "_model_name": "HTMLModel",
            "placeholder": "​",
            "_view_module": "@jupyter-widgets/controls",
            "_model_module_version": "1.5.0",
            "value": " 30/30 [25:21&lt;00:00, 50.72s/it]",
            "_view_count": null,
            "_view_module_version": "1.5.0",
            "description_tooltip": null,
            "_model_module": "@jupyter-widgets/controls",
            "layout": "IPY_MODEL_e28cf5b69b614255a18c83c21b603cf7"
          }
        },
        "265b68c7d7834d918b5a293b91903511": {
          "model_module": "@jupyter-widgets/controls",
          "model_name": "ProgressStyleModel",
          "state": {
            "_view_name": "StyleView",
            "_model_name": "ProgressStyleModel",
            "description_width": "initial",
            "_view_module": "@jupyter-widgets/base",
            "_model_module_version": "1.5.0",
            "_view_count": null,
            "_view_module_version": "1.2.0",
            "bar_color": null,
            "_model_module": "@jupyter-widgets/controls"
          }
        },
        "3145ca685ea34e22a30e831693f228a5": {
          "model_module": "@jupyter-widgets/base",
          "model_name": "LayoutModel",
          "state": {
            "_view_name": "LayoutView",
            "grid_template_rows": null,
            "right": null,
            "justify_content": null,
            "_view_module": "@jupyter-widgets/base",
            "overflow": null,
            "_model_module_version": "1.2.0",
            "_view_count": null,
            "flex_flow": null,
            "width": null,
            "min_width": null,
            "border": null,
            "align_items": null,
            "bottom": null,
            "_model_module": "@jupyter-widgets/base",
            "top": null,
            "grid_column": null,
            "overflow_y": null,
            "overflow_x": null,
            "grid_auto_flow": null,
            "grid_area": null,
            "grid_template_columns": null,
            "flex": null,
            "_model_name": "LayoutModel",
            "justify_items": null,
            "grid_row": null,
            "max_height": null,
            "align_content": null,
            "visibility": null,
            "align_self": null,
            "height": null,
            "min_height": null,
            "padding": null,
            "grid_auto_rows": null,
            "grid_gap": null,
            "max_width": null,
            "order": null,
            "_view_module_version": "1.2.0",
            "grid_template_areas": null,
            "object_position": null,
            "object_fit": null,
            "grid_auto_columns": null,
            "margin": null,
            "display": null,
            "left": null
          }
        },
        "614c73baf47247a38ac9d04a375674ca": {
          "model_module": "@jupyter-widgets/controls",
          "model_name": "DescriptionStyleModel",
          "state": {
            "_view_name": "StyleView",
            "_model_name": "DescriptionStyleModel",
            "description_width": "",
            "_view_module": "@jupyter-widgets/base",
            "_model_module_version": "1.5.0",
            "_view_count": null,
            "_view_module_version": "1.2.0",
            "_model_module": "@jupyter-widgets/controls"
          }
        },
        "e28cf5b69b614255a18c83c21b603cf7": {
          "model_module": "@jupyter-widgets/base",
          "model_name": "LayoutModel",
          "state": {
            "_view_name": "LayoutView",
            "grid_template_rows": null,
            "right": null,
            "justify_content": null,
            "_view_module": "@jupyter-widgets/base",
            "overflow": null,
            "_model_module_version": "1.2.0",
            "_view_count": null,
            "flex_flow": null,
            "width": null,
            "min_width": null,
            "border": null,
            "align_items": null,
            "bottom": null,
            "_model_module": "@jupyter-widgets/base",
            "top": null,
            "grid_column": null,
            "overflow_y": null,
            "overflow_x": null,
            "grid_auto_flow": null,
            "grid_area": null,
            "grid_template_columns": null,
            "flex": null,
            "_model_name": "LayoutModel",
            "justify_items": null,
            "grid_row": null,
            "max_height": null,
            "align_content": null,
            "visibility": null,
            "align_self": null,
            "height": null,
            "min_height": null,
            "padding": null,
            "grid_auto_rows": null,
            "grid_gap": null,
            "max_width": null,
            "order": null,
            "_view_module_version": "1.2.0",
            "grid_template_areas": null,
            "object_position": null,
            "object_fit": null,
            "grid_auto_columns": null,
            "margin": null,
            "display": null,
            "left": null
          }
        }
      }
    }
  },
  "cells": [
    {
      "cell_type": "markdown",
      "metadata": {
        "id": "4sWtTNNhGgtb"
      },
      "source": [
        "# Сегментация изображений"
      ]
    },
    {
      "cell_type": "markdown",
      "metadata": {
        "id": "T3j2LkDwGgtg"
      },
      "source": [
        "В этом ноутбуке рассмотрим задачу сегментации людей на фотографии с помощью нейросетевых архитектур Unet и Linknet."
      ]
    },
    {
      "cell_type": "markdown",
      "metadata": {
        "id": "bQSO4OQWGgti"
      },
      "source": [
        "## Загрузка данных"
      ]
    },
    {
      "cell_type": "code",
      "metadata": {
        "id": "8mGGLJ30Ggtk"
      },
      "source": [
        "import torch\n",
        "import torch.nn as nn\n",
        "import torch.optim as optim\n",
        " \n",
        "import numpy as np\n",
        "import numpy.testing as npt\n",
        "import matplotlib.pyplot as plt\n",
        " \n",
        "from torchvision.models import vgg13\n",
        "from torch.utils.data import Dataset, DataLoader\n",
        "from torchvision.transforms import Compose, ToTensor, Normalize\n",
        " \n",
        "from PIL import Image, ImageEnhance\n",
        " \n",
        "import os\n",
        " \n",
        "import random\n",
        " \n",
        "from tqdm.notebook import tqdm\n",
        " \n",
        "import time\n",
        " \n",
        "import pandas as pd"
      ],
      "execution_count": null,
      "outputs": []
    },
    {
      "cell_type": "markdown",
      "metadata": {
        "id": "hRjUfuX1Ggtm"
      },
      "source": [
        "## Модуль аугментации"
      ]
    },
    {
      "cell_type": "code",
      "metadata": {
        "id": "ObuDPqjNGgtl"
      },
      "source": [
        "class PhotosDataset(Dataset):\n",
        "    def __init__(self, images_dir, target_dir=None, transforms=None):\n",
        "        \"\"\"\n",
        "        Arguments\n",
        "        ---------\n",
        "        images_dir : str\n",
        "            Path to directory with images\n",
        "            \n",
        "        target_dir : str\n",
        "            Path to directory with masks.\n",
        "            Each mask corresponds to one image.\n",
        "            Corresponding mask and image have the same name, but different format.\n",
        "            \n",
        "        transforms : some collection\n",
        "            Sequence of transformations for images and masks. \n",
        "        \"\"\"\n",
        "        self.images_dir = images_dir\n",
        "        self.target_dir = target_dir\n",
        "        self.images_list = sorted(os.listdir(images_dir), \\\n",
        "                                  key=lambda x: int(x[:x.find('.')]))\n",
        "        self.target_list = sorted(os.listdir(target_dir), \\\n",
        "                                  key=lambda x: int(x[:x.find('.')]))\n",
        "        self.transforms = transforms\n",
        "        \n",
        "    def __len__(self):\n",
        "        return len(os.listdir(self.images_dir))\n",
        "                   \n",
        "    def __getitem__(self, idx):\n",
        "        \"\"\"\n",
        "        Arguments\n",
        "        ---------\n",
        "        idx : int\n",
        "            Index of image and mask\n",
        "        \n",
        "        Returns\n",
        "        -------\n",
        "        (image, mask)\n",
        "        \"\"\"\n",
        "        image = Image.open(self.images_dir + self.images_list[idx])\n",
        "        mask = None\n",
        "        if self.target_dir is not None:\n",
        "            mask = Image.open(self.target_dir + self.target_list[idx])\n",
        "        sample = {'img': image, 'mask': mask}\n",
        "        if self.transforms is not None:\n",
        "            sample = self.transforms(sample)\n",
        "        return sample['img'], sample['mask']"
      ],
      "execution_count": null,
      "outputs": []
    },
    {
      "cell_type": "markdown",
      "metadata": {
        "id": "A_9FwDmZGgtn"
      },
      "source": [
        "В данной части реализуем следующие трансформеры:"
      ]
    },
    {
      "cell_type": "markdown",
      "metadata": {
        "id": "XKXfseQuGgto"
      },
      "source": [
        "* случайное (с вероятностью p) горизонтальное отображение (flip) изображения \n",
        "* случайное (с веротностью p) вырезание фрагмента изображения (заданного или случайного размера)\n",
        "* случайное (с вероятностью p) изменение яркости изображения (на заданную или случайную величину)\n",
        "* случайное (с веротностью p) изменение фона изображения (на изображение из заданного списка изображений)"
      ]
    },
    {
      "cell_type": "code",
      "metadata": {
        "id": "zvcpXTRVGgto"
      },
      "source": [
        "class RandomHorizontalFlip(object):\n",
        "    def __init__(self, p=0.5):\n",
        "        self.p = p\n",
        " \n",
        "    def __call__(self, sample):\n",
        "        \"\"\"\n",
        "        Args:\n",
        "            sample {'img': PIL.Image, 'mask': PIL.Image}: Image to be flipped and its mask.\n",
        " \n",
        "        Returns:\n",
        "            {'img': PIL.Image, 'mask': PIL.Image}: Randomly flipped image and its mask.\n",
        "        \"\"\"\n",
        "        if self.p > random.random():\n",
        "            if sample['mask'] is not None:\n",
        "                return {'img': sample['img'].transpose(Image.FLIP_LEFT_RIGHT), \\\n",
        "                            'mask': sample['mask'].transpose(Image.FLIP_LEFT_RIGHT)}\n",
        "            return {'img': sample['img'].transpose(Image.FLIP_LEFT_RIGHT), \\\n",
        "                        'mask': None}\n",
        "        return sample\n",
        " \n",
        " \n",
        "class RandomCrop(object):\n",
        "    def __init__(self, p=0.5, crop_size=None):\n",
        "        self.p = p\n",
        "        self.crop_size = crop_size\n",
        " \n",
        "    def __call__(self, sample):\n",
        "        \"\"\"\n",
        "        Args:\n",
        "            sample ({'img': PIL.Image, 'mask': PIL.Image}): image to be cropped and its mask.\n",
        " \n",
        "        Returns:\n",
        "            {'img': PIL.Image, 'mask': PIL.Image}: randomly cropped image and its mask.\n",
        "        \"\"\"\n",
        "        if self.p > random.random():\n",
        "            img_w, img_h = sample['img'].size\n",
        "            if self.crop_size is None:\n",
        "                crop_w = random.randint(1, img_w)\n",
        "                crop_h = random.randint(1, img_h)\n",
        "            else:\n",
        "                crop_w = self.crop_size[0]\n",
        "                crop_h = self.crop_size[1]\n",
        "            crop_x = random.randint(0, img_w - crop_w)\n",
        "            crop_y = random.randint(0, img_h - crop_h)\n",
        "            crop_coords = (crop_x, crop_y, crop_x + crop_w, crop_y + crop_h)\n",
        "            if sample['mask'] is not None:\n",
        "                return {'img': sample['img'].crop(crop_coords).resize((img_w, img_h)), \\\n",
        "                            'mask': sample['mask'].crop(crop_coords).resize((img_w, img_h))}\n",
        "            return {'img': sample['img'].crop(crop_coords).resize((img_w, img_h)), \\\n",
        "                        'mask': sample['mask']}\n",
        "        return sample\n",
        " \n",
        " \n",
        "class RandomBackgroundChange(object):\n",
        "    def __init__(self, img_list, p=0.5):\n",
        "        self.p = p\n",
        "        self.bg_list = img_list\n",
        " \n",
        "    def __call__(self, sample):\n",
        "        \"\"\"\n",
        "        Args:\n",
        "            sample {'img': PIL.Image, 'mask': PIL.Image}: Image to change background of and its mask.\n",
        " \n",
        "        Returns:\n",
        "            PIL.Image: Randomly background changed image.\n",
        "        \"\"\"\n",
        "        if self.p > random.random():\n",
        "            bg_img = Image.open(self.bg_list[random.randint(0, len(self.bg_list) - 1)])\n",
        "            return {'img': Image.composite(sample['img'], bg_img, sample['mask']), 'mask': sample['mask']}\n",
        "        return sample\n",
        " \n",
        " \n",
        "class RandomBrightnessAdjustment(object):\n",
        "    def __init__(self, p=0.5, factor=None):\n",
        "        self.p = p\n",
        "        self.factor = factor\n",
        " \n",
        "    def __call__(self, sample):\n",
        "        \"\"\"\n",
        "        Args:\n",
        "            sample {'img': PIL.Image, 'mqdk: PIL.Image}: Image to adjust brightness on and its mask.\n",
        " \n",
        "        Returns:\n",
        "            PIL.Image: Image with randomly adjusted brightness.\n",
        "        \"\"\"\n",
        "        if self.p > random.random():\n",
        "            factor = self.factor\n",
        "            if factor is None:\n",
        "                factor = random.uniform(0.0, 2.0)\n",
        "            return {'img': ImageEnhance.Brightness(sample['img']).enhance(factor), 'mask': sample['mask']}\n",
        "        return sample"
      ],
      "execution_count": null,
      "outputs": []
    },
    {
      "cell_type": "markdown",
      "metadata": {
        "id": "bldnOFyAGgtp"
      },
      "source": [
        "Добавим случайные преобразования в датасеты, а также преобразование в tensor и нормализацию для изображения:\n",
        " \n",
        "```\n",
        "transforms.ToTensor()\n",
        "transforms.Normalize(mean=[0.485, 0.456, 0.406],\n",
        "                     std=[0.229, 0.224, 0.225])\n",
        "```"
      ]
    },
    {
      "cell_type": "code",
      "metadata": {
        "id": "FIQLZfQZGgtp"
      },
      "source": [
        "class ImageToTensor(object):\n",
        "    def __call__(self, sample):\n",
        "        img = ToTensor()(sample['img'])\n",
        "        mask = None\n",
        "        if sample['mask'] is not None:\n",
        "            mask = torch.as_tensor(np.array(sample['mask']), dtype=torch.int64)\n",
        "        return {'img': img, 'mask': mask}\n",
        " \n",
        " \n",
        "class ImageNormalizer(object):\n",
        "    def __call__(self, sample):\n",
        "        normalizer = Normalize(mean=[0.485, 0.456, 0.406], \\\n",
        "                               std=[0.229, 0.224, 0.225])\n",
        "        if sample['mask'] is None:\n",
        "            return {'img': normalizer(sample['img']), 'mask': sample['mask']}\n",
        "        return {'img': normalizer(sample['img']), 'mask': sample['mask'] / 255}\n",
        " \n",
        " \n",
        "DATA_PATH = './people_data/'\n",
        " \n",
        "train_dataset = PhotosDataset(\n",
        "    images_dir=DATA_PATH + 'train/',\n",
        "    target_dir=DATA_PATH + 'train_mask/',\n",
        "    transforms=Compose([RandomHorizontalFlip(), \\\n",
        "                        RandomBackgroundChange([DATA_PATH + 'train/' + \\\n",
        "                                                img_dir for img_dir in \\\n",
        "                                                os.listdir(DATA_PATH + 'train/')]), \\\n",
        "                        RandomCrop(), \\\n",
        "                        RandomBrightnessAdjustment(), \\\n",
        "                        ImageToTensor(), \\\n",
        "                        ImageNormalizer()])\n",
        ")\n",
        " \n",
        "test_dataset = PhotosDataset(\n",
        "    images_dir=DATA_PATH + 'test/',\n",
        "    target_dir=DATA_PATH + 'test_mask/',\n",
        "    transforms=Compose([ImageToTensor(), \\\n",
        "                        ImageNormalizer()])\n",
        ")"
      ],
      "execution_count": null,
      "outputs": []
    },
    {
      "cell_type": "markdown",
      "metadata": {
        "id": "wCuTHnhcGgtq"
      },
      "source": [
        "Функция для отображения изображения:"
      ]
    },
    {
      "cell_type": "code",
      "metadata": {
        "id": "omxu_HxQGgtq"
      },
      "source": [
        "def show_idx_image(dataset, idx):\n",
        "    mask_img = dataset[idx]\n",
        " \n",
        "    image_to_show = mask_img[0].transpose(0, 1).transpose(1, 2).numpy()\n",
        "    image_to_show = (image_to_show * np.array([0.229, 0.224, 0.225])) + np.array([0.485, 0.456, 0.406])\n",
        "    image_to_show = np.clip(image_to_show, 0, 1)\n",
        " \n",
        "    mask_to_show = mask_img[1].numpy()\n",
        " \n",
        "    fig, ax = plt.subplots(1, 3)\n",
        "    fig.set_figwidth(7)\n",
        "    fig.set_figheight(3)\n",
        " \n",
        " \n",
        "    plt.subplot(1, 2, 1)\n",
        "    plt.imshow(image_to_show)\n",
        "    plt.axis('off')\n",
        " \n",
        "    plt.subplot(1, 2, 2)\n",
        "    plt.imshow(mask_to_show)\n",
        "    plt.axis('off')"
      ],
      "execution_count": null,
      "outputs": []
    },
    {
      "cell_type": "markdown",
      "metadata": {
        "id": "LrkdA3ciGgtr"
      },
      "source": [
        "Отобразим несколько изображений и масок, на которых будет видна правильная работа модуля аугментации данных."
      ]
    },
    {
      "cell_type": "code",
      "metadata": {
        "id": "z9j9HBpIGgtr",
        "colab": {
          "base_uri": "https://localhost:8080/",
          "height": 902
        },
        "outputId": "3ec74c8e-02c3-4f27-c6bd-cf5afe85eb34"
      },
      "source": [
        "for i in range(5):\n",
        "    show_idx_image(train_dataset, i)"
      ],
      "execution_count": null,
      "outputs": [
        {
          "output_type": "display_data",
          "data": {
            "image/png": "[encoded data removed]",
            "text/plain": [
              "<Figure size 504x216 with 2 Axes>"
            ]
          },
          "metadata": {
            "tags": [],
            "needs_background": "light"
          }
        },
        {
          "output_type": "display_data",
          "data": {
            "image/png": "[encoded data removed]",
            "text/plain": [
              "<Figure size 504x216 with 2 Axes>"
            ]
          },
          "metadata": {
            "tags": [],
            "needs_background": "light"
          }
        },
        {
          "output_type": "display_data",
          "data": {
            "image/png": "[encoded data removed]",
            "text/plain": [
              "<Figure size 504x216 with 2 Axes>"
            ]
          },
          "metadata": {
            "tags": [],
            "needs_background": "light"
          }
        },
        {
          "output_type": "display_data",
          "data": {
            "image/png": "[encoded data removed]",
            "text/plain": [
              "<Figure size 504x216 with 2 Axes>"
            ]
          },
          "metadata": {
            "tags": [],
            "needs_background": "light"
          }
        },
        {
          "output_type": "display_data",
          "data": {
            "image/png": "[encoded data removed]",
            "text/plain": [
              "<Figure size 504x216 with 2 Axes>"
            ]
          },
          "metadata": {
            "tags": [],
            "needs_background": "light"
          }
        }
      ]
    },
    {
      "cell_type": "markdown",
      "metadata": {
        "id": "Ichcov2xGgts"
      },
      "source": [
        "## Загрузчики"
      ]
    },
    {
      "cell_type": "markdown",
      "metadata": {
        "id": "qH8NeMLvGgts"
      },
      "source": [
        "При обучении сети удобнее работать не с датасетами, а с загрузчиками."
      ]
    },
    {
      "cell_type": "code",
      "metadata": {
        "id": "zER2013JGgtt"
      },
      "source": [
        "train_data_loader = DataLoader(train_dataset, batch_size=20, shuffle=True)\n",
        "test_data_loader = DataLoader(test_dataset, batch_size=20)"
      ],
      "execution_count": null,
      "outputs": []
    },
    {
      "cell_type": "markdown",
      "metadata": {
        "id": "6StMIHlmGgtu"
      },
      "source": [
        "## DiceLoss"
      ]
    },
    {
      "cell_type": "markdown",
      "metadata": {
        "id": "Eg1uZ5pBGgtu"
      },
      "source": [
        "Результат dice loss определим как:\n",
        " \n",
        "$$\n",
        "1 - \\frac{2\\sum_{i, j}a_{ij}b_{ij}}{\\sum_{ij}(a_{ij} + b_{ij} + \\varepsilon)}\n",
        "$$\n",
        " \n",
        "где $a_{ij} \\in [0, 1]$ — предсказанная вероятность нахождения человека в пикселе изображения, $b_{ij}$ — разметка для пикселя изображения."
      ]
    },
    {
      "cell_type": "markdown",
      "metadata": {
        "id": "ExobKZO-Ggtw"
      },
      "source": [
        "Проверка реализации:"
      ]
    },
    {
      "cell_type": "code",
      "metadata": {
        "id": "UjODZA2yGgtu"
      },
      "source": [
        "class DiceLoss(nn.Module):\n",
        "    def __init__(self, eps=1e-7, reduction=None, with_logits=True):\n",
        "        \"\"\"\n",
        "        Arguments\n",
        "        ---------\n",
        "        eps : float\n",
        "            eps in denominator\n",
        "        reduction : Optional[str] (None, 'mean' or 'sum')\n",
        "            specifies the reduction to apply to the output:\n",
        "            \n",
        "            None: no reduction will be applied\n",
        "            'mean': the sum of the output will be divided by the number of batches in the output\n",
        "            'sum':  the output will be summed. \n",
        "        with_logits : bool\n",
        "            If True, use additional sigmoid for inputs\n",
        "        \"\"\"\n",
        "        super().__init__()\n",
        "        self.eps = eps\n",
        "        self.reduction = reduction\n",
        "        self.with_logits = with_logits\n",
        "        \n",
        "    def forward(self, logits, true_labels):\n",
        "        true_labels = true_labels.float()\n",
        "        \n",
        "        if self.with_logits:\n",
        "            logits = torch.sigmoid(logits)\n",
        "        \n",
        "        dice_loss_value  = 1 - 2 * torch.sum(logits * true_labels, (1, 2)) / \\\n",
        "          torch.sum(logits + true_labels + self.eps, (1, 2))\n",
        "        \n",
        "        if self.reduction == 'sum':\n",
        "            loss_value = torch.sum(dice_loss_value)\n",
        "        elif self.reduction == 'mean':\n",
        "            loss_value = torch.mean(dice_loss_value)\n",
        "        elif self.reduction is None:\n",
        "            loss_value = dice_loss_value\n",
        "            \n",
        "        return loss_value"
      ],
      "execution_count": null,
      "outputs": []
    },
    {
      "cell_type": "code",
      "metadata": {
        "id": "K4NwcgIFGgtw"
      },
      "source": [
        "logits = torch.tensor([\n",
        "    [[0, 0.5], [0.5, 1]],\n",
        "    [[0.1, 0.1], [0, 0]],\n",
        "])\n",
        " \n",
        "target = torch.tensor([\n",
        "    [[0, 1], [1, 1]],\n",
        "    [[1, 0], [0, 1]],\n",
        "])\n",
        " \n",
        "losses = DiceLoss(with_logits=False, reduction=None, eps=1e-7)(logits, target)\n",
        "npt.assert_almost_equal(losses.numpy(), np.array([0.2, 0.90909]), decimal=4)\n",
        " \n",
        "loss = DiceLoss(with_logits=False, reduction='mean', eps=1e-7)(logits, target)\n",
        "npt.assert_almost_equal(float(loss.numpy()), 0.554545, decimal=4)\n",
        " \n",
        "loss = DiceLoss(with_logits=False, reduction='sum', eps=1e-7)(logits, target)\n",
        "npt.assert_almost_equal(float(loss.numpy()), 1.10909, decimal=4)"
      ],
      "execution_count": null,
      "outputs": []
    },
    {
      "cell_type": "markdown",
      "metadata": {
        "id": "G5wu5CbZGgtx"
      },
      "source": [
        "## Unet"
      ]
    },
    {
      "cell_type": "markdown",
      "metadata": {
        "id": "CfCqtk7wGgtz"
      },
      "source": [
        "Для решения задачи сегментации будем использовать UNet (https://arxiv.org/pdf/1505.04597.pdf) с энкодером из первых блоков предобученного VGG13.\n",
        "\n",
        "Энкодер:"
      ]
    },
    {
      "cell_type": "code",
      "metadata": {
        "id": "3xPs7tbDGgt0"
      },
      "source": [
        "class VGG13Encoder(torch.nn.Module):\n",
        "    def __init__(self, num_blocks, pretrained=True):\n",
        "        super().__init__()\n",
        "        self.num_blocks = num_blocks\n",
        "        self.blocks = nn.ModuleList()\n",
        "        # Obtaining pretrained VGG model from torchvision.models and\n",
        "        # copying all layers except for max pooling.\n",
        "        feature_extractor = vgg13(pretrained=pretrained).features\n",
        "        for i in range(self.num_blocks):\n",
        "            self.blocks.append(\n",
        "                torch.nn.Sequential(*[feature_extractor[j]\n",
        "                                      for j in range(i * 5, i * 5 + 4)]))\n",
        " \n",
        "    def forward(self, x):\n",
        "        activations = []\n",
        "        for i in range(self.num_blocks):\n",
        "            x = self.blocks[i](x)\n",
        "            activations.append(x)\n",
        "            if i != self.num_blocks - 1:\n",
        "                x = torch.functional.F.max_pool2d(x, kernel_size=2, stride=2)\n",
        "        return activations"
      ],
      "execution_count": null,
      "outputs": []
    },
    {
      "cell_type": "markdown",
      "metadata": {
        "id": "lqw-HGIlGgt1"
      },
      "source": [
        "Декодер:"
      ]
    },
    {
      "cell_type": "code",
      "metadata": {
        "id": "ZViUwgcXGgt2"
      },
      "source": [
        "class DecoderBlock(torch.nn.Module):\n",
        "    def __init__(self, out_channels):\n",
        "        super().__init__()\n",
        " \n",
        "        self.upconv = torch.nn.Conv2d(\n",
        "            in_channels=out_channels * 2, out_channels=out_channels,\n",
        "            kernel_size=3, padding=1, dilation=1\n",
        "        )\n",
        "        self.conv1 = torch.nn.Conv2d(\n",
        "            in_channels=out_channels * 2, out_channels=out_channels,\n",
        "            kernel_size=3, padding=1, dilation=1\n",
        "        )\n",
        "        self.conv2 = torch.nn.Conv2d(\n",
        "            in_channels=out_channels, out_channels=out_channels,\n",
        "            kernel_size=3, padding=1, dilation=1\n",
        "        )\n",
        "        self.relu = nn.ReLU()\n",
        "    def forward(self, down, left):\n",
        "        x = torch.nn.functional.interpolate(down, scale_factor=2)\n",
        "        x = self.upconv(x)\n",
        "        x = self.relu(self.conv1(torch.cat([left, x], 1)))\n",
        "        x = self.relu(self.conv2(x))\n",
        "        return x"
      ],
      "execution_count": null,
      "outputs": []
    },
    {
      "cell_type": "code",
      "metadata": {
        "id": "O0k3eB-4Ggt3"
      },
      "source": [
        "class Decoder(nn.Module):\n",
        "    def __init__(self, num_filters, num_blocks):\n",
        "        super().__init__()\n",
        " \n",
        "        for i in range(num_blocks):\n",
        "            self.add_module(f'block{num_blocks - i}', DecoderBlock(num_filters * 2**i))\n",
        " \n",
        "    def forward(self, acts):\n",
        "        up = acts[-1]\n",
        "        for i, left in enumerate(acts[-2::-1]):\n",
        "            up = self.__getattr__(f'block{i + 1}')(up, left)\n",
        "        return up"
      ],
      "execution_count": null,
      "outputs": []
    },
    {
      "cell_type": "markdown",
      "metadata": {
        "id": "6W32IvV3Ggt3"
      },
      "source": [
        "Сеть Unet:"
      ]
    },
    {
      "cell_type": "code",
      "metadata": {
        "id": "nSTMgSV9Ggt3"
      },
      "source": [
        "class UNet(torch.nn.Module):\n",
        "    def __init__(self, num_classes=1, num_filters=64, num_blocks=4):\n",
        "        super().__init__()\n",
        "        self.encoder = VGG13Encoder(num_blocks=num_blocks)\n",
        "        self.decoder = Decoder(num_filters=64, num_blocks=num_blocks - 1)\n",
        "        self.final = torch.nn.Conv2d(\n",
        "            in_channels=num_filters, out_channels=num_classes, kernel_size=1\n",
        "        )\n",
        " \n",
        "    def forward(self, x):\n",
        "        acts = self.encoder(x)\n",
        "        x = self.decoder(acts)\n",
        "        x = self.final(x)\n",
        "        return x"
      ],
      "execution_count": null,
      "outputs": []
    },
    {
      "cell_type": "markdown",
      "metadata": {
        "id": "-QTZrBVoGgt4"
      },
      "source": [
        "Функция для оценивания качества сети:"
      ]
    },
    {
      "cell_type": "code",
      "metadata": {
        "id": "DSgtQlfoGgt4"
      },
      "source": [
        "def evaluate_net(net, testloader, criterion, val_criterion, device='cpu'):\n",
        "    net = net.eval()\n",
        " \n",
        "    loss = 0.\n",
        "    correct = 0.\n",
        "    \n",
        "    with torch.no_grad():\n",
        "        for data in testloader:\n",
        "            images, labels = data\n",
        "            \n",
        "            images = images.to(device)\n",
        "            \n",
        "            outputs = net(images).to(device)\n",
        "            loss += float(criterion(outputs, torch.unsqueeze(labels, 1).type_as(outputs)).detach())\n",
        "            correct += float(val_criterion(outputs, torch.unsqueeze(labels, 1).type_as(outputs)).detach())\n",
        "    \n",
        "    mean_loss = loss / len(testloader)\n",
        "    metric = correct / len(testloader)\n",
        "    \n",
        "    return mean_loss, metric"
      ],
      "execution_count": null,
      "outputs": []
    },
    {
      "cell_type": "markdown",
      "metadata": {
        "id": "rjfZ9yz7Ggt5"
      },
      "source": [
        "Теперь применим сеть на практике.\n",
        " \n",
        "Обучим её на обучающей выборке и протестируем качество на тестовой выборке. \n",
        " \n",
        "Сначала при обучении будем использовать только кросс-энтропию (torch.nn.BCEWithLogitsLoss будет более удобна для бинарного случая). Зафиксируем результат.\n",
        " \n",
        "Сравним между собой несколько стратегий оптимизации (только кросс-энтропия, только dice loss, сумма двух лоссов с весами). \n",
        " \n",
        "Для всех экспериментов отобразим графики функции потерь и качества за время обучения. Выведем получившиеся маски для нескольких изображений из датасета. Сделаем выводы."
      ]
    },
    {
      "cell_type": "code",
      "metadata": {
        "id": "2iwquBGfkrs6"
      },
      "source": [
        "class DiceScore(nn.Module):\n",
        "    def __init__(self, eps=1e-7, reduction=None, with_logits=True):\n",
        "        \"\"\"\n",
        "        Arguments\n",
        "        ---------\n",
        "        eps : float\n",
        "            eps in denominator\n",
        "        reduction : Optional[str] (None, 'mean' or 'sum')\n",
        "            specifies the reduction to apply to the output:\n",
        "            \n",
        "            None: no reduction will be applied\n",
        "            'mean': the sum of the output will be divided by the number of batches in the output\n",
        "            'sum':  the output will be summed. \n",
        "        with_logits : bool\n",
        "            If True, use additional sigmoid for inputs\n",
        "        \"\"\"\n",
        "        super().__init__()\n",
        "        self.eps = eps\n",
        "        self.reduction = reduction\n",
        "        self.with_logits = with_logits\n",
        "        \n",
        "    def forward(self, logits, true_labels):\n",
        "        true_labels = true_labels.float()\n",
        "        \n",
        "        if self.with_logits:\n",
        "            logits = torch.sigmoid(logits)\n",
        "        \n",
        "        dice_score_value  = 2 * torch.sum(logits * true_labels, (1, 2)) / \\\n",
        "          torch.sum(logits + true_labels + self.eps, (1, 2))\n",
        "        \n",
        "        if self.reduction == 'sum':\n",
        "            score_value = torch.sum(dice_score_value)\n",
        "        elif self.reduction == 'mean':\n",
        "            score_value = torch.mean(dice_score_value)\n",
        "        elif self.reduction is None:\n",
        "            score_value = dice_score_value\n",
        "            \n",
        "        return score_value"
      ],
      "execution_count": null,
      "outputs": []
    },
    {
      "cell_type": "code",
      "metadata": {
        "id": "cH-HXR9qGgt5"
      },
      "source": [
        "def train(model, train_dataloader, test_dataloader, optimizer, \\\n",
        "              criterion, val_criterion, num_epoch, device):\n",
        "    model = model.to(device)\n",
        "    train_loss_on_epoch = []\n",
        "    test_loss_on_epoch = []\n",
        "    train_metric_on_epoch = []\n",
        "    test_metric_on_epoch = []\n",
        "    for epoch in tqdm(range(num_epoch)):\n",
        "        model.train()\n",
        "        cur_train_loss = 0.\n",
        "        cur_train_metric = 0.\n",
        "        n_batches = len(train_dataloader)\n",
        "        for inputs, labels in train_dataloader:\n",
        "            optimizer.zero_grad()\n",
        "            inputs = inputs.to(device)\n",
        "            labels = labels.to(device)\n",
        "            \n",
        "            outputs = model(inputs)\n",
        "            loss = criterion(outputs, torch.unsqueeze(labels, 1).type_as(outputs))\n",
        "            loss.backward()\n",
        "            optimizer.step()\n",
        "            cur_train_loss += float(loss.detach())\n",
        "            cur_train_metric += float(val_criterion(outputs, \\\n",
        "                                torch.unsqueeze(labels, 1).type_as(outputs)).detach())\n",
        "\n",
        "        train_loss_on_epoch.append(cur_train_loss / n_batches)\n",
        "        train_metric_on_epoch.append(cur_train_metric / n_batches)\n",
        "        cur_test_loss, cur_test_metric = evaluate_net(model, test_dataloader, \\\n",
        "                                         criterion, val_criterion, device)\n",
        "        test_loss_on_epoch.append(cur_test_loss)\n",
        "        test_metric_on_epoch.append(cur_test_metric)\n",
        "        print('epoch: {}, train/test loss: {}/{}, train/test metric: {}/{}'.format(epoch, \\\n",
        "                                                                                   train_loss_on_epoch[-1], \\\n",
        "                                                                                   test_loss_on_epoch[-1], \\\n",
        "                                                                                   train_metric_on_epoch[-1], \\\n",
        "                                                                                   test_metric_on_epoch[-1]))\n",
        "    return train_loss_on_epoch.copy(), train_metric_on_epoch.copy(), \\\n",
        "           test_loss_on_epoch.copy(), test_metric_on_epoch.copy()"
      ],
      "execution_count": null,
      "outputs": []
    },
    {
      "cell_type": "code",
      "metadata": {
        "id": "Qm3TWRR-FUNm"
      },
      "source": [
        "lr = 1e-4\n",
        "weight_decay = 0\n",
        "num_epoch = 30"
      ],
      "execution_count": null,
      "outputs": []
    },
    {
      "cell_type": "code",
      "metadata": {
        "id": "8FMweHhsBJEQ",
        "colab": {
          "base_uri": "https://localhost:8080/"
        },
        "outputId": "3a678533-abc2-47bf-8753-dabde5b0c4be"
      },
      "source": [
        "val_criterion = DiceScore(reduction='mean')\n",
        "device = torch.device('cuda:0' if torch.cuda.is_available() else 'cpu')\n",
        "device"
      ],
      "execution_count": null,
      "outputs": [
        {
          "output_type": "execute_result",
          "data": {
            "text/plain": [
              "device(type='cuda', index=0)"
            ]
          },
          "metadata": {
            "tags": []
          },
          "execution_count": 19
        }
      ]
    },
    {
      "cell_type": "code",
      "metadata": {
        "id": "KFJWMCCzGtDi",
        "colab": {
          "base_uri": "https://localhost:8080/",
          "height": 673,
          "referenced_widgets": [
            "a8d5f69f49da48aa9a4f2ea96f85e37f",
            "16f7c7964dcb4432813cbf627ec14e55",
            "e6cccc4bed6b4e648760774c370fcf09",
            "d7b45b4f70af4a348ac987df2f3b5134",
            "d04d663b334b4f36a4deebb7f278d488",
            "4ad124fe837843cb87c9eeee3860753f",
            "d88aea0f34ce47c5af36b720e3c67877",
            "84b3d9d6f77d4179bf524ded9fb3e3e7",
            "ac8050988166400ba48d772f5e3148c8",
            "b9620135b046458e9235a1d3df0c0d0c",
            "7d104129053f41b98c0915344a643059",
            "5ba63182a4e24882bf7ac1b30d49914e",
            "9d8df7ed2e0b4c15b586f74a1de0bdd2",
            "b8950042227c4f299766133de84dcddb",
            "869d3a0850ac4e3fb600c12dff599882",
            "64aaa1a976b24533be4b5a46c67ea877"
          ]
        },
        "outputId": "e4bc0041-857b-422e-e96e-7a17f4dc96fc"
      },
      "source": [
        "unet_ce = UNet()\n",
        "optimizer_unet_ce = optim.Adam(unet_ce.parameters(), lr=lr, weight_decay = weight_decay)\n",
        "criterion = nn.BCEWithLogitsLoss(reduction='mean')\n",
        " \n",
        "start_time = time.time()\n",
        "unet_ce_train_loss_on_epoch, \\\n",
        "  unet_ce_train_metric_on_epoch, \\\n",
        "  unet_ce_test_loss_on_epoch, \\\n",
        "  unet_ce_test_metric_on_epoch = \\\n",
        "    train(unet_ce, train_data_loader, test_data_loader, \\\n",
        "          optimizer_unet_ce, criterion, val_criterion, num_epoch, device)\n",
        "unet_ce_fitting_time = time.time() - start_time"
      ],
      "execution_count": null,
      "outputs": [
        {
          "output_type": "stream",
          "text": [
            "Downloading: \"https://download.pytorch.org/models/vgg13-c768596a.pth\" to /root/.cache/torch/hub/checkpoints/vgg13-c768596a.pth\n"
          ],
          "name": "stderr"
        },
        {
          "output_type": "display_data",
          "data": {
            "application/vnd.jupyter.widget-view+json": {
              "model_id": "a8d5f69f49da48aa9a4f2ea96f85e37f",
              "version_minor": 0,
              "version_major": 2
            },
            "text/plain": [
              "HBox(children=(FloatProgress(value=0.0, max=532194478.0), HTML(value='')))"
            ]
          },
          "metadata": {
            "tags": []
          }
        },
        {
          "output_type": "stream",
          "text": [
            "\n"
          ],
          "name": "stdout"
        },
        {
          "output_type": "display_data",
          "data": {
            "application/vnd.jupyter.widget-view+json": {
              "model_id": "ac8050988166400ba48d772f5e3148c8",
              "version_minor": 0,
              "version_major": 2
            },
            "text/plain": [
              "HBox(children=(FloatProgress(value=0.0, max=30.0), HTML(value='')))"
            ]
          },
          "metadata": {
            "tags": []
          }
        },
        {
          "output_type": "stream",
          "text": [
            "epoch: 0, train/test loss: 0.4744531395534674/0.2596133760583233, train/test metric: 0.6620118956212644/0.7603755135771254\n",
            "epoch: 1, train/test loss: 0.37436813907490835/0.26587610177590815, train/test metric: 0.7146536251792202/0.7426236574078949\n",
            "epoch: 2, train/test loss: 0.348357447595508/0.28213808895416664, train/test metric: 0.7285676064314666/0.7905147558366749\n",
            "epoch: 3, train/test loss: 0.32074457245844384/0.2642226063869369, train/test metric: 0.7446354795054153/0.7743056177253455\n",
            "epoch: 4, train/test loss: 0.31440390788846545/0.19651489757316212, train/test metric: 0.743022115694152/0.8000465921113189\n",
            "epoch: 5, train/test loss: 0.30551841604488866/0.19189177778824953, train/test metric: 0.7445953010188209/0.8145838228749557\n",
            "epoch: 6, train/test loss: 0.31264563163673437/0.2655232644207041, train/test metric: 0.7445957102157451/0.7870027914013661\n",
            "epoch: 7, train/test loss: 0.2962892602549659/0.20039327699743525, train/test metric: 0.7548877668380737/0.8233543286021326\n",
            "epoch: 8, train/test loss: 0.29232483082347444/0.20117160667416076, train/test metric: 0.7604151720250094/0.8065979640248796\n",
            "epoch: 9, train/test loss: 0.28195388004735666/0.22381359107897314, train/test metric: 0.7672976307957261/0.8191910751268897\n",
            "epoch: 10, train/test loss: 0.28169037546824527/0.172522397947983, train/test metric: 0.7712424656638392/0.8289993443119694\n",
            "epoch: 11, train/test loss: 0.27770977765045785/0.1813194128409238, train/test metric: 0.7625645663782402/0.7999742110850105\n",
            "epoch: 12, train/test loss: 0.26543821239637005/0.17913183695833448, train/test metric: 0.7700667903411926/0.8184298906527775\n",
            "epoch: 13, train/test loss: 0.26648746931994405/0.18499351534205424, train/test metric: 0.7694765044803973/0.8038319030278166\n",
            "epoch: 14, train/test loss: 0.2709704920180418/0.16825870870494505, train/test metric: 0.7661648436828896/0.823799922432698\n",
            "epoch: 15, train/test loss: 0.26473941617265895/0.17685780485331173, train/test metric: 0.766511024567816/0.8356699679099339\n",
            "epoch: 16, train/test loss: 0.26229423630568716/0.17014759883914196, train/test metric: 0.76354111344726/0.8180649431658463\n",
            "epoch: 17, train/test loss: 0.270188008359185/0.18361939363916155, train/test metric: 0.7620836167644571/0.8122988376818913\n",
            "epoch: 18, train/test loss: 0.2529785991046164/0.17368978576760896, train/test metric: 0.7758340070865772/0.8062997636660724\n",
            "epoch: 19, train/test loss: 0.251391209565379/0.1596203133673735, train/test metric: 0.7840389797974516/0.8263016662127535\n",
            "epoch: 20, train/test loss: 0.2523429815885094/0.15616921178052123, train/test metric: 0.7797056606301555/0.8246933150459343\n",
            "epoch: 21, train/test loss: 0.2622626277418048/0.15361107885837555, train/test metric: 0.7710033385400419/0.8358817893854329\n",
            "epoch: 22, train/test loss: 0.25280440642050017/0.15892566562118665, train/test metric: 0.7770532996566207/0.8317222066328559\n",
            "epoch: 23, train/test loss: 0.2580955877541392/0.16619105196334946, train/test metric: 0.7754557976319834/0.8245893456566502\n",
            "epoch: 24, train/test loss: 0.24423275062331448/0.15532690286636353, train/test metric: 0.7801653269178631/0.8369189265748145\n",
            "epoch: 25, train/test loss: 0.24970151791556014/0.1577968530251946, train/test metric: 0.7724785006377433/0.8308413641553529\n",
            "epoch: 26, train/test loss: 0.24706147524493713/0.14759010811087112, train/test metric: 0.7825051282787765/0.8346058424089996\n",
            "epoch: 27, train/test loss: 0.2414972795849597/0.15773289892035472, train/test metric: 0.7803601988598152/0.8276136328636761\n",
            "epoch: 28, train/test loss: 0.24757979800303778/0.1602903044139835, train/test metric: 0.7717739757564333/0.8220811922785262\n",
            "epoch: 29, train/test loss: 0.2376410777259756/0.15719370155687062, train/test metric: 0.7841972461673948/0.8264965817961895\n",
            "\n"
          ],
          "name": "stdout"
        }
      ]
    },
    {
      "cell_type": "code",
      "metadata": {
        "colab": {
          "base_uri": "https://localhost:8080/",
          "height": 295
        },
        "id": "X1NwWjonFUdH",
        "outputId": "dd248908-4c46-41a9-b91f-a5f8b62e02a8"
      },
      "source": [
        "fig = plt.figure()\n",
        "ax = fig.add_subplot(111)\n",
        "ax.set_title('UNet CE with logits loss on epoch number')\n",
        "ax.set_xlabel('epoch number')\n",
        "ax.set_ylabel('loss')\n",
        "ax.plot(list(range(num_epoch)), unet_ce_train_loss_on_epoch, label='train')\n",
        "ax.plot(list(range(num_epoch)), unet_ce_test_loss_on_epoch, label='test')\n",
        "plt.grid()\n",
        "plt.legend()\n",
        "plt.show()"
      ],
      "execution_count": null,
      "outputs": [
        {
          "output_type": "display_data",
          "data": {
            "image/png": "[encoded data removed]",
            "text/plain": [
              "<Figure size 432x288 with 1 Axes>"
            ]
          },
          "metadata": {
            "tags": [],
            "needs_background": "light"
          }
        }
      ]
    },
    {
      "cell_type": "code",
      "metadata": {
        "colab": {
          "base_uri": "https://localhost:8080/",
          "height": 295
        },
        "id": "C5J5nkdSSwOZ",
        "outputId": "3d8125a2-e4eb-4bf8-f955-bacfaa348f35"
      },
      "source": [
        "fig = plt.figure()\n",
        "ax = fig.add_subplot(111)\n",
        "ax.set_title('UNet (CE optimization) dice score on epoch number')\n",
        "ax.set_xlabel('epoch number')\n",
        "ax.set_ylabel('score')\n",
        "ax.plot(list(range(num_epoch)), unet_ce_train_metric_on_epoch, label='train')\n",
        "ax.plot(list(range(num_epoch)), unet_ce_test_metric_on_epoch, label='test')\n",
        "plt.grid()\n",
        "plt.legend()\n",
        "plt.show()"
      ],
      "execution_count": null,
      "outputs": [
        {
          "output_type": "display_data",
          "data": {
            "image/png": "[encoded data removed]",
            "text/plain": [
              "<Figure size 432x288 with 1 Axes>"
            ]
          },
          "metadata": {
            "tags": [],
            "needs_background": "light"
          }
        }
      ]
    },
    {
      "cell_type": "markdown",
      "metadata": {
        "id": "xXKUsLH7dHlT"
      },
      "source": [
        "Предсказания UNet с CE loss:"
      ]
    },
    {
      "cell_type": "code",
      "metadata": {
        "colab": {
          "base_uri": "https://localhost:8080/",
          "height": 287
        },
        "id": "xK_Hwyk3dGC2",
        "outputId": "4f24a596-0c7c-4bac-9410-cbb0b80f766d"
      },
      "source": [
        "unet_ce.eval()\n",
        "with torch.no_grad():\n",
        "    inputs, labels = next(iter(test_data_loader))\n",
        "    inputs = inputs.to(device)\n",
        "    labels = labels.to(device)\n",
        "    preds = unet_ce(inputs)\n",
        "    preds = torch.sigmoid(preds)\n",
        "    pred1 = (torch.squeeze(preds[0].cpu().data, 0).numpy() > 0.5).astype('int') * 255\n",
        "    label1 = labels[0].cpu().data.numpy()\n",
        "    pred2 = (torch.squeeze(preds[1].cpu().data, 0).numpy() > 0.5).astype('int') * 255\n",
        "    label2 = labels[1].cpu().data.numpy()\n",
        "    fig, ((ax1, ax2), (ax3, ax4)) = plt.subplots(2, 2)\n",
        "    ax1.imshow(label1)\n",
        "    ax2.imshow(pred1)\n",
        "    ax3.imshow(label2)\n",
        "    ax4.imshow(pred2)\n",
        "plt.plot()"
      ],
      "execution_count": null,
      "outputs": [
        {
          "output_type": "execute_result",
          "data": {
            "text/plain": [
              "[]"
            ]
          },
          "metadata": {
            "tags": []
          },
          "execution_count": 83
        },
        {
          "output_type": "display_data",
          "data": {
            "image/png": "[encoded data removed]",
            "text/plain": [
              "<Figure size 432x288 with 4 Axes>"
            ]
          },
          "metadata": {
            "tags": [],
            "needs_background": "light"
          }
        }
      ]
    },
    {
      "cell_type": "code",
      "metadata": {
        "colab": {
          "base_uri": "https://localhost:8080/",
          "height": 587,
          "referenced_widgets": [
            "181e5710eb404472b8aadedd58994408",
            "11c8f2aa923f441fabe99a04471144b5",
            "82e71c82254147429432427a09c18174",
            "b4e976db36b54a57a627c681289cb6a3",
            "e1d248a2198a4344806b63a43499b85b",
            "d83a6886ed8f4197a496a302c1e5286c",
            "dc49e944dcb94112bae98e24d3e22807",
            "21d9dc68a8844674b9b10cb826704247"
          ]
        },
        "id": "iCLha8OUeYiX",
        "outputId": "bfffc133-8aa5-4fb4-fb80-3200dfecb2f4"
      },
      "source": [
        "lr = 5e-5\n",
        "weight_decay = 1e-4\n",
        "num_epoch = 30\n",
        " \n",
        "unet_dice = UNet()\n",
        "optimizer_unet_dice = optim.Adam(unet_dice.parameters(), lr=lr, weight_decay = weight_decay)\n",
        "criterion = DiceLoss(reduction='mean')\n",
        " \n",
        "start_time = time.time()\n",
        "unet_dice_train_loss_on_epoch, \\\n",
        "  unet_dice_train_metric_on_epoch, \\\n",
        "  unet_dice_test_loss_on_epoch, \\\n",
        "  unet_dice_test_metric_on_epoch = \\\n",
        "    train(unet_dice, train_data_loader, test_data_loader, \\\n",
        "          optimizer_unet_dice, criterion, val_criterion, num_epoch, device)\n",
        "unet_dice_fitting_time = time.time() - start_time"
      ],
      "execution_count": null,
      "outputs": [
        {
          "output_type": "display_data",
          "data": {
            "application/vnd.jupyter.widget-view+json": {
              "model_id": "181e5710eb404472b8aadedd58994408",
              "version_minor": 0,
              "version_major": 2
            },
            "text/plain": [
              "HBox(children=(FloatProgress(value=0.0, max=30.0), HTML(value='')))"
            ]
          },
          "metadata": {
            "tags": []
          }
        },
        {
          "output_type": "stream",
          "text": [
            "epoch: 0, train/test loss: 0.3371914476156235/0.2981180027127266, train/test metric: 0.6628085799953517/0.7018820568919182\n",
            "epoch: 1, train/test loss: 0.3010106189724277/0.2981180027127266, train/test metric: 0.6989894062280655/0.7018820568919182\n",
            "epoch: 2, train/test loss: 0.289422906935215/0.2981180027127266, train/test metric: 0.7105771233053768/0.7018820568919182\n",
            "epoch: 3, train/test loss: 0.2988807311391129/0.2981180027127266, train/test metric: 0.7011192958144581/0.7018820568919182\n",
            "epoch: 4, train/test loss: 0.29370471572174744/0.2981180027127266, train/test metric: 0.7062953079448027/0.7018820494413376\n",
            "epoch: 5, train/test loss: 0.2926465279477484/0.2981180027127266, train/test metric: 0.7073534919935114/0.7018820494413376\n",
            "epoch: 6, train/test loss: 0.2935262686189483/0.2981180064380169, train/test metric: 0.7064737554858712/0.7018820345401764\n",
            "epoch: 7, train/test loss: 0.2854909508982125/0.2981180213391781, train/test metric: 0.7145090734257418/0.7018819898366928\n",
            "epoch: 8, train/test loss: 0.29330191388726234/0.29811807721853256, train/test metric: 0.7066981117515003/0.7018819600343704\n",
            "epoch: 9, train/test loss: 0.28520652125863466/0.2981181778013706, train/test metric: 0.7147935006548377/0.7018818482756615\n",
            "epoch: 10, train/test loss: 0.2868408676894272/0.29811834543943405, train/test metric: 0.7131591597024132/0.7018816769123077\n",
            "epoch: 11, train/test loss: 0.2939246255247032/0.29811858385801315, train/test metric: 0.7060754009905983/0.7018814384937286\n",
            "epoch: 12, train/test loss: 0.2917917767430053/0.29811879992485046, train/test metric: 0.7082082471426796/0.7018812298774719\n",
            "epoch: 13, train/test loss: 0.28522222313810797/0.29811887070536613, train/test metric: 0.7147777992136338/0.7018811702728271\n",
            "epoch: 14, train/test loss: 0.29126788522390756/0.2981184720993042, train/test metric: 0.7087321316494661/0.7018815502524376\n",
            "epoch: 15, train/test loss: 0.29510315748698573/0.2981167659163475, train/test metric: 0.7048968699048547/0.7018832415342331\n",
            "epoch: 16, train/test loss: 0.2876688458901994/0.2981119826436043, train/test metric: 0.712331177557216/0.7018880397081375\n",
            "epoch: 17, train/test loss: 0.29399338561822386/0.2980847395956516, train/test metric: 0.7060066391439999/0.7019152641296387\n",
            "epoch: 18, train/test loss: 0.2921583915458006/0.29764844849705696, train/test metric: 0.7078416338738274/0.7023515626788139\n",
            "epoch: 19, train/test loss: 0.2949914213489084/0.2768310643732548, train/test metric: 0.7050086014411029/0.7231689691543579\n",
            "epoch: 20, train/test loss: 0.2834460735321045/0.2812393195927143, train/test metric: 0.7165539492579067/0.7187607139348984\n",
            "epoch: 21, train/test loss: 0.2763941524659886/0.24257649295032024, train/test metric: 0.7236058694474837/0.7574235424399376\n",
            "epoch: 22, train/test loss: 0.2533939724021098/0.19847833178937435, train/test metric: 0.7466060545514611/0.8015216886997223\n",
            "epoch: 23, train/test loss: 0.24335779403062427/0.18887745402753353, train/test metric: 0.75664223029333/0.8111225813627243\n",
            "epoch: 24, train/test loss: 0.24058691236902685/0.17346674110740423, train/test metric: 0.7594131047234816/0.8265332877635956\n",
            "epoch: 25, train/test loss: 0.22930705854121378/0.16088636312633753, train/test metric: 0.7706929646870669/0.8391136825084686\n",
            "epoch: 26, train/test loss: 0.2295232706648462/0.1600626795552671, train/test metric: 0.7704767453319886/0.839937336742878\n",
            "epoch: 27, train/test loss: 0.222565918284304/0.15773958573117852, train/test metric: 0.7774341045057073/0.84226044267416\n",
            "epoch: 28, train/test loss: 0.20894097175229998/0.14881540602073073, train/test metric: 0.7910590575021856/0.8511846289038658\n",
            "epoch: 29, train/test loss: 0.2090921691235374/0.14744618302211165, train/test metric: 0.7909078545430127/0.8525538370013237\n",
            "\n"
          ],
          "name": "stdout"
        }
      ]
    },
    {
      "cell_type": "code",
      "metadata": {
        "colab": {
          "base_uri": "https://localhost:8080/",
          "height": 295
        },
        "id": "H7TeBxYLhKke",
        "outputId": "bf7b41d3-b5f2-43a1-c058-6337670e6c31"
      },
      "source": [
        "fig = plt.figure()\n",
        "ax = fig.add_subplot(111)\n",
        "ax.set_title('UNet dice loss on epoch number')\n",
        "ax.set_xlabel('epoch number')\n",
        "ax.set_ylabel('loss')\n",
        "ax.plot(list(range(num_epoch)), unet_dice_train_loss_on_epoch, label='train')\n",
        "ax.plot(list(range(num_epoch)), unet_dice_test_loss_on_epoch, label='test')\n",
        "plt.grid()\n",
        "plt.legend()\n",
        "plt.show()"
      ],
      "execution_count": null,
      "outputs": [
        {
          "output_type": "display_data",
          "data": {
            "image/png": "[encoded data removed]",
            "text/plain": [
              "<Figure size 432x288 with 1 Axes>"
            ]
          },
          "metadata": {
            "tags": [],
            "needs_background": "light"
          }
        }
      ]
    },
    {
      "cell_type": "code",
      "metadata": {
        "colab": {
          "base_uri": "https://localhost:8080/",
          "height": 295
        },
        "id": "f_lCvzh3zQPb",
        "outputId": "fb5362c6-2281-4b15-c96f-35713bd41baa"
      },
      "source": [
        "fig = plt.figure()\n",
        "ax = fig.add_subplot(111)\n",
        "ax.set_title('UNet (dice loss) dice score on epoch number')\n",
        "ax.set_xlabel('epoch number')\n",
        "ax.set_ylabel('score')\n",
        "ax.plot(list(range(num_epoch)), unet_dice_train_metric_on_epoch, label='train')\n",
        "ax.plot(list(range(num_epoch)), unet_dice_test_metric_on_epoch, label='test')\n",
        "plt.grid()\n",
        "plt.legend()\n",
        "plt.show()"
      ],
      "execution_count": null,
      "outputs": [
        {
          "output_type": "display_data",
          "data": {
            "image/png": "[encoded data removed]",
            "text/plain": [
              "<Figure size 432x288 with 1 Axes>"
            ]
          },
          "metadata": {
            "tags": [],
            "needs_background": "light"
          }
        }
      ]
    },
    {
      "cell_type": "markdown",
      "metadata": {
        "id": "oWlg0MdqfaEZ"
      },
      "source": [
        "Предсказания UNet с dice loss"
      ]
    },
    {
      "cell_type": "code",
      "metadata": {
        "colab": {
          "base_uri": "https://localhost:8080/",
          "height": 287
        },
        "id": "UqDmrYMdfaVc",
        "outputId": "5298767f-4912-4933-cfab-5d2e1e960f4f"
      },
      "source": [
        "unet_dice.eval()\n",
        "with torch.no_grad():\n",
        "    inputs, labels = next(iter(test_data_loader))\n",
        "    inputs = inputs.to(device)\n",
        "    labels = labels.to(device)\n",
        "    preds = unet_dice(inputs)\n",
        "    preds = torch.sigmoid(preds)\n",
        "    pred1 = (torch.squeeze(preds[0].cpu().data, 0).numpy() > 0.5).astype('int') * 255\n",
        "    label1 = labels[0].cpu().data.numpy()\n",
        "    pred2 = (torch.squeeze(preds[1].cpu().data, 0).numpy() > 0.5).astype('int') * 255\n",
        "    label2 = labels[1].cpu().data.numpy()\n",
        "    fig, ((ax1, ax2), (ax3, ax4)) = plt.subplots(2, 2)\n",
        "    ax1.imshow(label1)\n",
        "    ax2.imshow(pred1)\n",
        "    ax3.imshow(label2)\n",
        "    ax4.imshow(pred2)\n",
        "plt.plot()"
      ],
      "execution_count": null,
      "outputs": [
        {
          "output_type": "execute_result",
          "data": {
            "text/plain": [
              "[]"
            ]
          },
          "metadata": {
            "tags": []
          },
          "execution_count": 87
        },
        {
          "output_type": "display_data",
          "data": {
            "image/png": "[encoded data removed]",
            "text/plain": [
              "<Figure size 432x288 with 4 Axes>"
            ]
          },
          "metadata": {
            "tags": [],
            "needs_background": "light"
          }
        }
      ]
    },
    {
      "cell_type": "code",
      "metadata": {
        "id": "4f5V9zEFbYib"
      },
      "source": [
        "class WeightedLoss(nn.Module):\n",
        "    def __init__(self, loss_1, loss_2, w1, w2):\n",
        "        super().__init__()\n",
        "        self.loss_1 = loss_1\n",
        "        self.loss_2 = loss_2\n",
        "        self.w1 = w1\n",
        "        self.w2 = w2\n",
        "\n",
        "    def forward(self, logits, true_labels):\n",
        "        loss_value = self.w1 * self.loss_1(logits, true_labels) + \\\n",
        "                     self.w2 * self.loss_2(logits, true_labels)\n",
        " \n",
        "        return loss_value"
      ],
      "execution_count": null,
      "outputs": []
    },
    {
      "cell_type": "code",
      "metadata": {
        "colab": {
          "base_uri": "https://localhost:8080/",
          "height": 587,
          "referenced_widgets": [
            "60bca210d38f4cce908580e41581f9ec",
            "a0de79562394408dbe70c8719269f28e",
            "a529d2e0bc7440fc929f542c3b83c509",
            "a5b251472cc34257b1b5605423393f5a",
            "8490c019657b4958a1ca03360a6cd06d",
            "4d6ff8144eab4376999d3044b347f1f4",
            "717c6c068bbc4874b953c4b9ade16939",
            "8d30de05ff5f4d3a9da0277cc92c8752"
          ]
        },
        "id": "EXs35Gmz2Jhn",
        "outputId": "dd042e8b-fae6-4bdb-b459-ef9369f8623f"
      },
      "source": [
        "lr = 1e-4\n",
        "weight_decay = 0\n",
        "num_epoch = 30\n",
        "  \n",
        "unet_ce_dice = UNet()\n",
        "optimizer_unet_ce_dice = optim.Adam(unet_ce_dice.parameters(), lr=lr, weight_decay = weight_decay)\n",
        "criterion = WeightedLoss(nn.BCEWithLogitsLoss(reduction='mean'), \\\n",
        "                         DiceLoss(reduction='mean'), 0.7, 0.3)\n",
        " \n",
        "start_time = time.time()\n",
        "unet_ce_dice_train_loss_on_epoch, \\\n",
        "  unet_ce_dice_train_metric_on_epoch, \\\n",
        "  unet_ce_dice_test_loss_on_epoch, \\\n",
        "  unet_ce_dice_test_metric_on_epoch = \\\n",
        "    train(unet_ce_dice, train_data_loader, test_data_loader, \\\n",
        "          optimizer_unet_ce_dice, criterion, val_criterion, num_epoch, device)\n",
        "unet_ce_dice_fitting_time = time.time() - start_time"
      ],
      "execution_count": null,
      "outputs": [
        {
          "output_type": "display_data",
          "data": {
            "application/vnd.jupyter.widget-view+json": {
              "model_id": "60bca210d38f4cce908580e41581f9ec",
              "version_minor": 0,
              "version_major": 2
            },
            "text/plain": [
              "HBox(children=(FloatProgress(value=0.0, max=30.0), HTML(value='')))"
            ]
          },
          "metadata": {
            "tags": []
          }
        },
        {
          "output_type": "stream",
          "text": [
            "epoch: 0, train/test loss: 0.48565051967606826/0.2549249716103077, train/test metric: 0.6371494785827749/0.7826842293143272\n",
            "epoch: 1, train/test loss: 0.37879354638211865/0.2263962011784315, train/test metric: 0.6989127143340952/0.7932362854480743\n",
            "epoch: 2, train/test loss: 0.35583026181249056/0.21179380640387535, train/test metric: 0.7125388471519246/0.8018569946289062\n",
            "epoch: 3, train/test loss: 0.3227312071796726/0.1895597130060196, train/test metric: 0.7393740362980786/0.8191334083676338\n",
            "epoch: 4, train/test loss: 0.2901791093104026/0.18638022802770138, train/test metric: 0.7580702427555533/0.8235798180103302\n",
            "epoch: 5, train/test loss: 0.2963070724816883/0.19301573373377323, train/test metric: 0.750525193179355/0.8341021686792374\n",
            "epoch: 6, train/test loss: 0.2754939912873156/0.16622430551797152, train/test metric: 0.7654351513175404/0.8476135656237602\n",
            "epoch: 7, train/test loss: 0.2807352455223308/0.22571875248104334, train/test metric: 0.7656334586003247/0.8125725984573364\n",
            "epoch: 8, train/test loss: 0.2732800786547801/0.1560813933610916, train/test metric: 0.7632096181897556/0.8497816026210785\n",
            "epoch: 9, train/test loss: 0.2659299625631641/0.16858648881316185, train/test metric: 0.7747369066757315/0.8391179069876671\n",
            "epoch: 10, train/test loss: 0.25132693372228565/0.16110644349828362, train/test metric: 0.780535934602513/0.8383707627654076\n",
            "epoch: 11, train/test loss: 0.2559977134360987/0.15284779854118824, train/test metric: 0.7758610748192843/0.8534519299864769\n",
            "epoch: 12, train/test loss: 0.25316756744595137/0.1937663620337844, train/test metric: 0.7792900704285678/0.8338224291801453\n",
            "epoch: 13, train/test loss: 0.2530970012440401/0.14922993164509535, train/test metric: 0.7806956452481887/0.8512446954846382\n",
            "epoch: 14, train/test loss: 0.2474072288502665/0.15106992796063423, train/test metric: 0.7804491844247369/0.8440313190221786\n",
            "epoch: 15, train/test loss: 0.24882320292732296/0.15700147300958633, train/test metric: 0.782953085268245/0.8377373293042183\n",
            "epoch: 16, train/test loss: 0.24287215762716882/0.16687593050301075, train/test metric: 0.7861947767874774/0.8325531482696533\n",
            "epoch: 17, train/test loss: 0.24467306496465907/0.14465026184916496, train/test metric: 0.7824995114522821/0.8570585399866104\n",
            "epoch: 18, train/test loss: 0.24657180664293907/0.17130761221051216, train/test metric: 0.7783601897604325/0.8251924142241478\n",
            "epoch: 19, train/test loss: 0.24787179654573693/0.14154815766960382, train/test metric: 0.7741640192620894/0.8561465963721275\n",
            "epoch: 20, train/test loss: 0.2268394253709737/0.14871587138623, train/test metric: 0.7939210411380319/0.8478233441710472\n",
            "epoch: 21, train/test loss: 0.24125184819978826/0.14956834353506565, train/test metric: 0.7772864199736539/0.8503628969192505\n",
            "epoch: 22, train/test loss: 0.23972035374711542/0.15211462322622538, train/test metric: 0.7836607878699022/0.8415687307715416\n",
            "epoch: 23, train/test loss: 0.23830913839971318/0.14679817575961351, train/test metric: 0.7821567312759512/0.8525823056697845\n",
            "epoch: 24, train/test loss: 0.24086688371265635/0.14307156205177307, train/test metric: 0.7864762500805014/0.8492603898048401\n",
            "epoch: 25, train/test loss: 0.24546466285691543/0.13900319300591946, train/test metric: 0.7846311208079843/0.8536974638700485\n",
            "epoch: 26, train/test loss: 0.2178582270794055/0.13861223123967648, train/test metric: 0.7991942009505104/0.8563693314790726\n",
            "epoch: 27, train/test loss: 0.22568375255693407/0.14391937293112278, train/test metric: 0.7940843350747052/0.8571089580655098\n",
            "epoch: 28, train/test loss: 0.22396708509939559/0.1395163917914033, train/test metric: 0.7958916136447121/0.8556623831391335\n",
            "epoch: 29, train/test loss: 0.22810732178828297/0.1499435044825077, train/test metric: 0.7892825033734826/0.8426040783524513\n",
            "\n"
          ],
          "name": "stdout"
        }
      ]
    },
    {
      "cell_type": "code",
      "metadata": {
        "colab": {
          "base_uri": "https://localhost:8080/",
          "height": 295
        },
        "id": "C5m7eMly_vBS",
        "outputId": "3891ae46-74df-4b30-fdd9-216bb49f6587"
      },
      "source": [
        "fig = plt.figure()\n",
        "ax = fig.add_subplot(111)\n",
        "ax.set_title('UNet CE and dice weighted (0.7/0.3) loss on epoch number')\n",
        "ax.set_xlabel('epoch number')\n",
        "ax.set_ylabel('loss')\n",
        "ax.plot(list(range(num_epoch)), unet_ce_dice_train_loss_on_epoch, label='train')\n",
        "ax.plot(list(range(num_epoch)), unet_ce_dice_test_loss_on_epoch, label='test')\n",
        "plt.grid()\n",
        "plt.legend()\n",
        "plt.show()"
      ],
      "execution_count": null,
      "outputs": [
        {
          "output_type": "display_data",
          "data": {
            "image/png": "[encoded data removed]",
            "text/plain": [
              "<Figure size 432x288 with 1 Axes>"
            ]
          },
          "metadata": {
            "tags": [],
            "needs_background": "light"
          }
        }
      ]
    },
    {
      "cell_type": "code",
      "metadata": {
        "colab": {
          "base_uri": "https://localhost:8080/",
          "height": 295
        },
        "id": "4vY29w6mACNO",
        "outputId": "3091f792-a3f8-4b1a-85ed-34e1c20dfa83"
      },
      "source": [
        "fig = plt.figure()\n",
        "ax = fig.add_subplot(111)\n",
        "ax.set_title('UNet (CE and dice weighted (0.7/0.3) loss) dice score on epoch number')\n",
        "ax.set_xlabel('epoch number')\n",
        "ax.set_ylabel('score')\n",
        "ax.plot(list(range(num_epoch)), unet_ce_dice_train_metric_on_epoch, label='train')\n",
        "ax.plot(list(range(num_epoch)), unet_ce_dice_test_metric_on_epoch, label='test')\n",
        "plt.grid()\n",
        "plt.legend()\n",
        "plt.show()"
      ],
      "execution_count": null,
      "outputs": [
        {
          "output_type": "display_data",
          "data": {
            "image/png": "[encoded data removed]",
            "text/plain": [
              "<Figure size 432x288 with 1 Axes>"
            ]
          },
          "metadata": {
            "tags": [],
            "needs_background": "light"
          }
        }
      ]
    },
    {
      "cell_type": "markdown",
      "metadata": {
        "id": "JVhKsZqsfpL_"
      },
      "source": [
        "Предсказания UNet с взвешенной суммой CE loss и dice loss"
      ]
    },
    {
      "cell_type": "code",
      "metadata": {
        "colab": {
          "base_uri": "https://localhost:8080/",
          "height": 287
        },
        "id": "O68Mfq_wfpVI",
        "outputId": "a1f0f73c-e61b-4b35-e6b2-7188d3b99742"
      },
      "source": [
        "unet_ce_dice.eval()\n",
        "with torch.no_grad():\n",
        "    inputs, labels = next(iter(test_data_loader))\n",
        "    inputs = inputs.to(device)\n",
        "    labels = labels.to(device)\n",
        "    preds = unet_ce_dice(inputs)\n",
        "    preds = torch.sigmoid(preds)\n",
        "    pred1 = (torch.squeeze(preds[0].cpu().data, 0).numpy() > 0.5).astype('int') * 255\n",
        "    label1 = labels[0].cpu().data.numpy()\n",
        "    pred2 = (torch.squeeze(preds[1].cpu().data, 0).numpy() > 0.5).astype('int') * 255\n",
        "    label2 = labels[1].cpu().data.numpy()\n",
        "    fig, ((ax1, ax2), (ax3, ax4)) = plt.subplots(2, 2)\n",
        "    ax1.imshow(label1)\n",
        "    ax2.imshow(pred1)\n",
        "    ax3.imshow(label2)\n",
        "    ax4.imshow(pred2)\n",
        "plt.plot()"
      ],
      "execution_count": null,
      "outputs": [
        {
          "output_type": "execute_result",
          "data": {
            "text/plain": [
              "[]"
            ]
          },
          "metadata": {
            "tags": []
          },
          "execution_count": 86
        },
        {
          "output_type": "display_data",
          "data": {
            "image/png": "[encoded data removed]",
            "text/plain": [
              "<Figure size 432x288 with 4 Axes>"
            ]
          },
          "metadata": {
            "tags": [],
            "needs_background": "light"
          }
        }
      ]
    },
    {
      "cell_type": "markdown",
      "metadata": {
        "id": "g03ZTVYAGgt5"
      },
      "source": [
        "## LinkNet"
      ]
    },
    {
      "cell_type": "markdown",
      "metadata": {
        "id": "dCONu7SqGgt6"
      },
      "source": [
        "Реализуем архитектуру LinkNet с использованием энкодера, основанного на VGG13. Архитектура похожа на Unet, но вместо конкатенации слоёв используются skip-connections. Для реализации достаточно переписать структуру декодировщика из предыдущего пункта.\n",
        " \n",
        "https://arxiv.org/pdf/1707.03718.pdf\n",
        " \n",
        "Обучим сеть и проведём анализ согласно предыдущему пункту."
      ]
    },
    {
      "cell_type": "code",
      "metadata": {
        "id": "fyZW_92JGgt6"
      },
      "source": [
        "class LinkNetDecoderBlock(torch.nn.Module):\n",
        "    def __init__(self, out_channels):\n",
        "        super().__init__()\n",
        " \n",
        "        self.upconv = torch.nn.Conv2d(\n",
        "            in_channels=out_channels * 2, out_channels=out_channels,\n",
        "            kernel_size=3, padding=1, dilation=1\n",
        "        )\n",
        "        self.conv1 = torch.nn.Conv2d(\n",
        "            in_channels=out_channels, out_channels=out_channels,\n",
        "            kernel_size=3, padding=1, dilation=1\n",
        "        )\n",
        "        self.conv2 = torch.nn.Conv2d(\n",
        "            in_channels=out_channels, out_channels=out_channels,\n",
        "            kernel_size=3, padding=1, dilation=1\n",
        "        )\n",
        "        self.relu = nn.ReLU()\n",
        "    def forward(self, down, left):\n",
        "        x = torch.nn.functional.interpolate(down, scale_factor=2)\n",
        "        x = self.upconv(x)\n",
        "        x = self.relu(self.conv1(left + x))\n",
        "        x = self.relu(self.conv2(x))\n",
        "        return x"
      ],
      "execution_count": null,
      "outputs": []
    },
    {
      "cell_type": "code",
      "metadata": {
        "id": "d6ak_WcKge5M"
      },
      "source": [
        "class LinkNetDecoder(nn.Module):\n",
        "    def __init__(self, num_filters, num_blocks):\n",
        "        super().__init__()\n",
        " \n",
        "        for i in range(num_blocks):\n",
        "            self.add_module(f'block{num_blocks - i}', LinkNetDecoderBlock(num_filters * 2**i))\n",
        " \n",
        "    def forward(self, acts):\n",
        "        up = acts[-1]\n",
        "        for i, left in enumerate(acts[-2::-1]):\n",
        "            up = self.__getattr__(f'block{i + 1}')(up, left)\n",
        "        return up"
      ],
      "execution_count": null,
      "outputs": []
    },
    {
      "cell_type": "code",
      "metadata": {
        "id": "52LAkBTgesqZ"
      },
      "source": [
        "class LinkNet(torch.nn.Module):\n",
        "    def __init__(self, num_classes=1, num_filters=64, num_blocks=4):\n",
        "        super().__init__()\n",
        "        self.encoder = VGG13Encoder(num_blocks=num_blocks)\n",
        "        self.decoder = LinkNetDecoder(num_filters=64, num_blocks=num_blocks - 1)\n",
        "        self.final = torch.nn.Conv2d(\n",
        "            in_channels=num_filters, out_channels=num_classes, kernel_size=1\n",
        "        )\n",
        " \n",
        "    def forward(self, x):\n",
        "        acts = self.encoder(x)\n",
        "        x = self.decoder(acts)\n",
        "        x = self.final(x)\n",
        "        return x"
      ],
      "execution_count": null,
      "outputs": []
    },
    {
      "cell_type": "markdown",
      "metadata": {
        "id": "2XN7nREMGgt6"
      },
      "source": [
        "Обучите LinkNet. Сравним LinkNet и Unet по качеству работы. Сделаем выводы. "
      ]
    },
    {
      "cell_type": "code",
      "metadata": {
        "id": "wjBdcL_Ak0qP",
        "colab": {
          "base_uri": "https://localhost:8080/",
          "height": 587,
          "referenced_widgets": [
            "8425532cb10f42dabf562852171c19fe",
            "4e2fd555a88047a9a6209d426ec9201c",
            "b049d68296d4432580003ef0acdc7bc7",
            "9cedb04d00eb422589a2bc7ec8a676df",
            "5ffcc1df043244738ef21d7c6af21d18",
            "9d6181dcdd1a46fbb2b60d5ceaabfe8e",
            "61c1962ccff7441baacf1abca06124f1",
            "a6d6a4976c54472fa6515a32520093c4"
          ]
        },
        "outputId": "43903a69-700f-4123-838e-3627a78354a3"
      },
      "source": [
        "lr = 1e-4\n",
        "weight_decay = 0\n",
        "num_epoch = 30\n",
        " \n",
        "linknet_ce = LinkNet()\n",
        "optimizer_linknet_ce = optim.Adam(linknet_ce.parameters(), lr=lr, weight_decay = weight_decay)\n",
        "criterion = nn.BCEWithLogitsLoss(reduction='mean')\n",
        " \n",
        "start_time = time.time()\n",
        "linknet_ce_train_loss_on_epoch, \\\n",
        "  linknet_ce_train_metric_on_epoch, \\\n",
        "  linknet_ce_test_loss_on_epoch, \\\n",
        "  linknet_ce_test_metric_on_epoch = \\\n",
        "    train(linknet_ce, train_data_loader, test_data_loader, \\\n",
        "          optimizer_linknet_ce, criterion, val_criterion, num_epoch, device)\n",
        "linknet_ce_fitting_time = time.time() - start_time"
      ],
      "execution_count": null,
      "outputs": [
        {
          "output_type": "display_data",
          "data": {
            "application/vnd.jupyter.widget-view+json": {
              "model_id": "8425532cb10f42dabf562852171c19fe",
              "version_minor": 0,
              "version_major": 2
            },
            "text/plain": [
              "HBox(children=(FloatProgress(value=0.0, max=30.0), HTML(value='')))"
            ]
          },
          "metadata": {
            "tags": []
          }
        },
        {
          "output_type": "stream",
          "text": [
            "epoch: 0, train/test loss: 0.5159219529698876/0.2630205973982811, train/test metric: 0.6372608879909796/0.7663987800478935\n",
            "epoch: 1, train/test loss: 0.4023079096394427/0.27052767015993595, train/test metric: 0.7020954165388557/0.75047317892313\n",
            "epoch: 2, train/test loss: 0.3696147906867897/0.2652344834059477, train/test metric: 0.711595925338128/0.7886239290237427\n",
            "epoch: 3, train/test loss: 0.3605995193562087/0.2294512279331684, train/test metric: 0.7088734603980008/0.7753564193844795\n",
            "epoch: 4, train/test loss: 0.33180859509636373/0.20860848762094975, train/test metric: 0.7295106737052693/0.8167585581541061\n",
            "epoch: 5, train/test loss: 0.3207747653564986/0.1912001147866249, train/test metric: 0.7402737798059688/0.8194373399019241\n",
            "epoch: 6, train/test loss: 0.302662874407628/0.2109324373304844, train/test metric: 0.7487946985399022/0.7870534509420395\n",
            "epoch: 7, train/test loss: 0.2912563223610906/0.16747128684073687, train/test metric: 0.7470673086012111/0.8355137258768082\n",
            "epoch: 8, train/test loss: 0.2887786372619517/0.18753439001739025, train/test metric: 0.7608786549638299/0.805107407271862\n",
            "epoch: 9, train/test loss: 0.2976896863649873/0.15923037938773632, train/test metric: 0.7520808884326149/0.8420840874314308\n",
            "epoch: 10, train/test loss: 0.2715195097467479/0.1697662267833948, train/test metric: 0.764147847014315/0.8185443505644798\n",
            "epoch: 11, train/test loss: 0.2604581238154103/0.1746126925572753, train/test metric: 0.7659597230308196/0.8171156272292137\n",
            "epoch: 12, train/test loss: 0.2812468137811212/0.1737059000879526, train/test metric: 0.7583019856144401/0.8159574791789055\n",
            "epoch: 13, train/test loss: 0.27998844336937456/0.19986660778522491, train/test metric: 0.7496510235702291/0.7967692315578461\n",
            "epoch: 14, train/test loss: 0.24734770353226102/0.16023473255336285, train/test metric: 0.7653635389664594/0.8296811357140541\n",
            "epoch: 15, train/test loss: 0.24990461942027598/0.16043595038354397, train/test metric: 0.7797403502113679/0.8261095508933067\n",
            "epoch: 16, train/test loss: 0.26139065689023805/0.15063577704131603, train/test metric: 0.7650918943040511/0.8482796102762222\n",
            "epoch: 17, train/test loss: 0.2626043834230479/0.15584689285606146, train/test metric: 0.7737415354041492/0.838839165866375\n",
            "epoch: 18, train/test loss: 0.2515110680285622/0.15889023430645466, train/test metric: 0.7771113265086623/0.8316814228892326\n",
            "epoch: 19, train/test loss: 0.257395648780991/0.15655038133263588, train/test metric: 0.7668713208507089/0.8334518820047379\n",
            "epoch: 20, train/test loss: 0.25707407416227984/0.14974874816834927, train/test metric: 0.7708916453754201/0.8314156979322433\n",
            "epoch: 21, train/test loss: 0.24968018755316734/0.13942073052749038, train/test metric: 0.7794382800074184/0.8501305878162384\n",
            "epoch: 22, train/test loss: 0.2422557041487273/0.1677082758396864, train/test metric: 0.7813037888092154/0.8207082599401474\n",
            "epoch: 23, train/test loss: 0.2398801615790409/0.15256254747509956, train/test metric: 0.7781510282965267/0.8320992439985275\n",
            "epoch: 24, train/test loss: 0.23784697932355545/0.13859324250370264, train/test metric: 0.7823499826823964/0.8467085212469101\n",
            "epoch: 25, train/test loss: 0.2444192966555848/0.16483452077955008, train/test metric: 0.7771585417144439/0.830571636557579\n",
            "epoch: 26, train/test loss: 0.24179092301603625/0.14351393841207027, train/test metric: 0.7774817286168828/0.844849020242691\n",
            "epoch: 27, train/test loss: 0.23298780390006654/0.16081327386200428, train/test metric: 0.7935147267930648/0.8461267501115799\n",
            "epoch: 28, train/test loss: 0.22869925376246958/0.1444311523810029, train/test metric: 0.7812249388764886/0.8420020639896393\n",
            "epoch: 29, train/test loss: 0.24541078770861907/0.16983109526336193, train/test metric: 0.7765865974566516/0.8263523131608963\n",
            "\n"
          ],
          "name": "stdout"
        }
      ]
    },
    {
      "cell_type": "code",
      "metadata": {
        "colab": {
          "base_uri": "https://localhost:8080/",
          "height": 295
        },
        "id": "ClOh6OD0O4lJ",
        "outputId": "5f7d4645-b110-4a9f-e11d-1764e02bb3da"
      },
      "source": [
        "fig = plt.figure()\n",
        "ax = fig.add_subplot(111)\n",
        "ax.set_title('LinkNet CE loss on epoch number')\n",
        "ax.set_xlabel('epoch number')\n",
        "ax.set_ylabel('loss')\n",
        "ax.plot(list(range(num_epoch)), linknet_ce_train_loss_on_epoch, label='train')\n",
        "ax.plot(list(range(num_epoch)), linknet_ce_test_loss_on_epoch, label='test')\n",
        "plt.grid()\n",
        "plt.legend()\n",
        "plt.show()"
      ],
      "execution_count": null,
      "outputs": [
        {
          "output_type": "display_data",
          "data": {
            "image/png": "[encoded data removed]",
            "text/plain": [
              "<Figure size 432x288 with 1 Axes>"
            ]
          },
          "metadata": {
            "tags": [],
            "needs_background": "light"
          }
        }
      ]
    },
    {
      "cell_type": "code",
      "metadata": {
        "colab": {
          "base_uri": "https://localhost:8080/",
          "height": 295
        },
        "id": "ALBB7cDtO5ey",
        "outputId": "ec6cf63b-a315-4d70-f482-62fc4b7b877b"
      },
      "source": [
        "fig = plt.figure()\n",
        "ax = fig.add_subplot(111)\n",
        "ax.set_title('LinkNet (CE loss) dice score on epoch number')\n",
        "ax.set_xlabel('epoch number')\n",
        "ax.set_ylabel('score')\n",
        "ax.plot(list(range(num_epoch)), linknet_ce_train_metric_on_epoch, label='train')\n",
        "ax.plot(list(range(num_epoch)), linknet_ce_test_metric_on_epoch, label='test')\n",
        "plt.grid()\n",
        "plt.legend()\n",
        "plt.show()"
      ],
      "execution_count": null,
      "outputs": [
        {
          "output_type": "display_data",
          "data": {
            "image/png": "[encoded data removed]",
            "text/plain": [
              "<Figure size 432x288 with 1 Axes>"
            ]
          },
          "metadata": {
            "tags": [],
            "needs_background": "light"
          }
        }
      ]
    },
    {
      "cell_type": "markdown",
      "metadata": {
        "id": "CIfmj9L3f-V5"
      },
      "source": [
        "Предсказания LinkNet c CE loss"
      ]
    },
    {
      "cell_type": "code",
      "metadata": {
        "colab": {
          "base_uri": "https://localhost:8080/",
          "height": 287
        },
        "id": "u32SUXyuf-iB",
        "outputId": "277b0b4d-4c19-463e-f0e5-368acfff96ac"
      },
      "source": [
        "linknet_ce.eval()\n",
        "with torch.no_grad():\n",
        "    inputs, labels = next(iter(test_data_loader))\n",
        "    inputs = inputs.to(device)\n",
        "    labels = labels.to(device)\n",
        "    preds = linknet_ce(inputs)\n",
        "    preds = torch.sigmoid(preds)\n",
        "    pred1 = (torch.squeeze(preds[0].cpu().data, 0).numpy() > 0.5).astype('int') * 255\n",
        "    label1 = labels[0].cpu().data.numpy()\n",
        "    pred2 = (torch.squeeze(preds[1].cpu().data, 0).numpy() > 0.5).astype('int') * 255\n",
        "    label2 = labels[1].cpu().data.numpy()\n",
        "    fig, ((ax1, ax2), (ax3, ax4)) = plt.subplots(2, 2)\n",
        "    ax1.imshow(label1)\n",
        "    ax2.imshow(pred1)\n",
        "    ax3.imshow(label2)\n",
        "    ax4.imshow(pred2)\n",
        "plt.plot()"
      ],
      "execution_count": null,
      "outputs": [
        {
          "output_type": "execute_result",
          "data": {
            "text/plain": [
              "[]"
            ]
          },
          "metadata": {
            "tags": []
          },
          "execution_count": 88
        },
        {
          "output_type": "display_data",
          "data": {
            "image/png": "[encoded data removed]",
            "text/plain": [
              "<Figure size 432x288 with 4 Axes>"
            ]
          },
          "metadata": {
            "tags": [],
            "needs_background": "light"
          }
        }
      ]
    },
    {
      "cell_type": "code",
      "metadata": {
        "id": "D0cuX9xelHro",
        "colab": {
          "base_uri": "https://localhost:8080/",
          "height": 664,
          "referenced_widgets": [
            "1a9d867344834828b224824c977d1ccc",
            "2f20cd4bf2fb4a8091aa3e811b56d828",
            "c92fa424f96640d8b1c90ebf0c933b2f",
            "6f1a6b0aad57475c87446734d68d3be9",
            "3bb213b2b6544e218ecc9e3f027f59ed",
            "9051316e71fc4bf48bd2f121df785f11",
            "106bf49afec14a659f591187c7bbf4ad",
            "07084a7224b547dcbb75269e80005ece"
          ]
        },
        "outputId": "6166fe35-63f8-4438-8cf6-89b5646f6628"
      },
      "source": [
        "lr = 5e-5\n",
        "weight_decay = 1e-4\n",
        "num_epoch = 30\n",
        " \n",
        "linknet_dice = LinkNet()\n",
        "optimizer_linknet_dice = optim.Adam(linknet_dice.parameters(), lr=lr, weight_decay = weight_decay)\n",
        "criterion = DiceLoss(reduction='mean')\n",
        " \n",
        "start_time = time.time()\n",
        "linknet_dice_train_loss_on_epoch, \\\n",
        "  linknet_dice_train_metric_on_epoch, \\\n",
        "  linknet_dice_test_loss_on_epoch, \\\n",
        "  linknet_dice_test_metric_on_epoch = \\\n",
        "    train(linknet_dice, train_data_loader, test_data_loader, \\\n",
        "          optimizer_linknet_dice, criterion, val_criterion, num_epoch, device)\n",
        "linknet_dice_fitting_time = time.time() - start_time"
      ],
      "execution_count": null,
      "outputs": [
        {
          "output_type": "display_data",
          "data": {
            "application/vnd.jupyter.widget-view+json": {
              "model_id": "1a9d867344834828b224824c977d1ccc",
              "version_major": 2,
              "version_minor": 0
            },
            "text/plain": [
              "HBox(children=(FloatProgress(value=0.0, max=30.0), HTML(value='')))"
            ]
          },
          "metadata": {
            "tags": []
          }
        },
        {
          "output_type": "stream",
          "text": [
            "epoch: 0, train/test loss: 0.3179597539060256/0.2981180027127266, train/test metric: 0.6820402671309078/0.7018820568919182\n",
            "epoch: 1, train/test loss: 0.28740783758899746/0.2981180027127266, train/test metric: 0.7125921871732263/0.7018820568919182\n",
            "epoch: 2, train/test loss: 0.29549720510840416/0.2981180027127266, train/test metric: 0.7045028244747835/0.7018820568919182\n",
            "epoch: 3, train/test loss: 0.2964024274226497/0.2981179989874363, train/test metric: 0.7035975990926518/0.7018820494413376\n",
            "epoch: 4, train/test loss: 0.2891170954441323/0.298117995262146, train/test metric: 0.710882932824247/0.7018820270895958\n",
            "epoch: 5, train/test loss: 0.29716016176868887/0.2981179989874363, train/test metric: 0.7028398689101724/0.7018820270895958\n",
            "epoch: 6, train/test loss: 0.2917740088613594/0.2981180176138878, train/test metric: 0.7082260093268227/0.7018820196390152\n",
            "epoch: 7, train/test loss: 0.30014195906765323/0.29811806231737137, train/test metric: 0.6998580659137053/0.7018819525837898\n",
            "epoch: 8, train/test loss: 0.2936331165187499/0.29811815172433853, train/test metric: 0.7063669045181835/0.7018818706274033\n",
            "epoch: 9, train/test loss: 0.282022088766098/0.2981182634830475, train/test metric: 0.7179779366535299/0.7018817588686943\n",
            "epoch: 10, train/test loss: 0.2862756942563197/0.29811833053827286, train/test metric: 0.7137243291910957/0.7018817067146301\n",
            "epoch: 11, train/test loss: 0.29263653891051516/0.29811811447143555, train/test metric: 0.7073634731418946/0.7018819004297256\n",
            "epoch: 12, train/test loss: 0.29122286048882146/0.2981170080602169, train/test metric: 0.7087771655882106/0.7018830180168152\n",
            "epoch: 13, train/test loss: 0.2964213418171686/0.2981131188571453, train/test metric: 0.7035786833833245/0.701886884868145\n",
            "epoch: 14, train/test loss: 0.2963142140823252/0.2981024757027626, train/test metric: 0.7036858069546083/0.7018975466489792\n",
            "epoch: 15, train/test loss: 0.2963992887560059/0.2980177700519562, train/test metric: 0.703600732719197/0.7019822672009468\n",
            "epoch: 16, train/test loss: 0.2941760192899143/0.2981179840862751, train/test metric: 0.7058240008704803/0.7018820643424988\n",
            "epoch: 17, train/test loss: 0.2872040911632426/0.298117958009243, train/test metric: 0.7127959263675353/0.70188207924366\n",
            "epoch: 18, train/test loss: 0.2898809210780789/0.29811790585517883, train/test metric: 0.7101191036841449/0.7018821388483047\n",
            "epoch: 19, train/test loss: 0.292401437592857/0.29811782017350197, train/test metric: 0.7075985871693667/0.7018822282552719\n",
            "epoch: 20, train/test loss: 0.2921367811367792/0.29811766743659973, train/test metric: 0.7078632361748639/0.7018823772668839\n",
            "epoch: 21, train/test loss: 0.28654954341404576/0.29811738803982735, train/test metric: 0.7134504826629863/0.7018826380372047\n",
            "epoch: 22, train/test loss: 0.29353438514996977/0.2981167770922184, train/test metric: 0.7064656413653317/0.7018832638859749\n",
            "epoch: 23, train/test loss: 0.29049347954637866/0.2981150411069393, train/test metric: 0.7095065511324826/0.701884999871254\n",
            "epoch: 24, train/test loss: 0.29264817036250057/0.29810749366879463, train/test metric: 0.7073518563719357/0.7018925324082375\n",
            "epoch: 25, train/test loss: 0.29091639247010737/0.29805534332990646, train/test metric: 0.7090836228693232/0.7019447013735771\n",
            "epoch: 26, train/test loss: 0.2909144949825371/0.29695168882608414, train/test metric: 0.7090855328475728/0.7030483558773994\n",
            "epoch: 27, train/test loss: 0.2906368767075679/0.28020635433495045, train/test metric: 0.7093631397275364/0.7197936847805977\n",
            "epoch: 28, train/test loss: 0.2811717064503361/0.24070990271866322, train/test metric: 0.7188283178736182/0.7592901214957237\n",
            "epoch: 29, train/test loss: 0.26897825147299204/0.23974697291851044, train/test metric: 0.7310217750423095/0.7602530419826508\n",
            "\n"
          ],
          "name": "stdout"
        }
      ]
    },
    {
      "cell_type": "code",
      "metadata": {
        "colab": {
          "base_uri": "https://localhost:8080/",
          "height": 295
        },
        "id": "TBsTF4PVWRab",
        "outputId": "b4a05cda-68ae-498d-d6dd-a2a8c773e8f9"
      },
      "source": [
        "fig = plt.figure()\n",
        "ax = fig.add_subplot(111)\n",
        "ax.set_title('LinkNet dice loss on epoch number')\n",
        "ax.set_xlabel('epoch number')\n",
        "ax.set_ylabel('loss')\n",
        "ax.plot(list(range(num_epoch)), linknet_dice_train_loss_on_epoch, label='train')\n",
        "ax.plot(list(range(num_epoch)), linknet_dice_test_loss_on_epoch, label='test')\n",
        "plt.grid()\n",
        "plt.legend()\n",
        "plt.show()"
      ],
      "execution_count": null,
      "outputs": [
        {
          "output_type": "display_data",
          "data": {
            "image/png": "[encoded data removed]",
            "text/plain": [
              "<Figure size 432x288 with 1 Axes>"
            ]
          },
          "metadata": {
            "tags": [],
            "needs_background": "light"
          }
        }
      ]
    },
    {
      "cell_type": "code",
      "metadata": {
        "colab": {
          "base_uri": "https://localhost:8080/",
          "height": 295
        },
        "id": "xKIBgJm-WTvp",
        "outputId": "2b3bf12c-e6c4-4dea-a76b-c16a53a8f912"
      },
      "source": [
        "fig = plt.figure()\n",
        "ax = fig.add_subplot(111)\n",
        "ax.set_title('LinkNet (dice loss) dice score on epoch number')\n",
        "ax.set_xlabel('epoch number')\n",
        "ax.set_ylabel('score')\n",
        "ax.plot(list(range(num_epoch)), linknet_dice_train_metric_on_epoch, label='train')\n",
        "ax.plot(list(range(num_epoch)), linknet_dice_test_metric_on_epoch, label='test')\n",
        "plt.grid()\n",
        "plt.legend()\n",
        "plt.show()"
      ],
      "execution_count": null,
      "outputs": [
        {
          "output_type": "display_data",
          "data": {
            "image/png": "[encoded data removed]",
            "text/plain": [
              "<Figure size 432x288 with 1 Axes>"
            ]
          },
          "metadata": {
            "tags": [],
            "needs_background": "light"
          }
        }
      ]
    },
    {
      "cell_type": "markdown",
      "metadata": {
        "id": "ELyO8znLgMzR"
      },
      "source": [
        "Предсказания LinkNet с dice loss"
      ]
    },
    {
      "cell_type": "code",
      "metadata": {
        "colab": {
          "base_uri": "https://localhost:8080/",
          "height": 287
        },
        "id": "AEauoJ2JgM8r",
        "outputId": "d1da30c7-cf22-4177-9597-89831a8aabcb"
      },
      "source": [
        "linknet_dice.eval()\n",
        "with torch.no_grad():\n",
        "    inputs, labels = next(iter(test_data_loader))\n",
        "    inputs = inputs.to(device)\n",
        "    labels = labels.to(device)\n",
        "    preds = linknet_dice(inputs)\n",
        "    preds = torch.sigmoid(preds)\n",
        "    pred1 = (torch.squeeze(preds[0].cpu().data, 0).numpy() > 0.5).astype('int') * 255\n",
        "    label1 = labels[0].cpu().data.numpy()\n",
        "    pred2 = (torch.squeeze(preds[1].cpu().data, 0).numpy() > 0.5).astype('int') * 255\n",
        "    label2 = labels[1].cpu().data.numpy()\n",
        "    fig, ((ax1, ax2), (ax3, ax4)) = plt.subplots(2, 2)\n",
        "    ax1.imshow(label1)\n",
        "    ax2.imshow(pred1)\n",
        "    ax3.imshow(label2)\n",
        "    ax4.imshow(pred2)\n",
        "plt.plot()"
      ],
      "execution_count": null,
      "outputs": [
        {
          "output_type": "execute_result",
          "data": {
            "text/plain": [
              "[]"
            ]
          },
          "metadata": {
            "tags": []
          },
          "execution_count": 89
        },
        {
          "output_type": "display_data",
          "data": {
            "image/png": "[encoded data removed]",
            "text/plain": [
              "<Figure size 432x288 with 4 Axes>"
            ]
          },
          "metadata": {
            "tags": [],
            "needs_background": "light"
          }
        }
      ]
    },
    {
      "cell_type": "code",
      "metadata": {
        "id": "5v0Ky5gqlIUq",
        "colab": {
          "base_uri": "https://localhost:8080/",
          "height": 587,
          "referenced_widgets": [
            "cbd48563ed5f46fbaf15c90e36504031",
            "8f769b3722be462585eb27a1e671c921",
            "71cfa7b116844cc0988330e7a6e8a067",
            "62f8a654cef643d9918f6947091a65f5",
            "265b68c7d7834d918b5a293b91903511",
            "3145ca685ea34e22a30e831693f228a5",
            "614c73baf47247a38ac9d04a375674ca",
            "e28cf5b69b614255a18c83c21b603cf7"
          ]
        },
        "outputId": "033dd725-50e0-440c-a17e-7c47d113ca8a"
      },
      "source": [
        "lr = 1e-4\n",
        "weight_decay = 0\n",
        "num_epoch = 30\n",
        " \n",
        "linknet_ce_dice = LinkNet()\n",
        "optimizer_linknet_ce_dice = optim.Adam(linknet_ce_dice.parameters(), lr=lr, weight_decay = weight_decay)\n",
        "criterion = WeightedLoss(nn.BCEWithLogitsLoss(reduction='mean'), \\\n",
        "                                        DiceLoss(reduction='mean'), 0.7, 0.3)\n",
        " \n",
        "start_time = time.time()\n",
        "linknet_ce_dice_train_loss_on_epoch, \\\n",
        "  linknet_ce_dice_train_metric_on_epoch, \\\n",
        "  linknet_ce_dice_test_loss_on_epoch, \\\n",
        "  linknet_ce_dice_test_metric_on_epoch = \\\n",
        "    train(linknet_ce_dice, train_data_loader, test_data_loader, \\\n",
        "          optimizer_linknet_ce_dice, criterion, val_criterion, num_epoch, device)\n",
        "linknet_ce_dice_fitting_time = time.time() - start_time"
      ],
      "execution_count": null,
      "outputs": [
        {
          "output_type": "display_data",
          "data": {
            "application/vnd.jupyter.widget-view+json": {
              "model_id": "cbd48563ed5f46fbaf15c90e36504031",
              "version_minor": 0,
              "version_major": 2
            },
            "text/plain": [
              "HBox(children=(FloatProgress(value=0.0, max=30.0), HTML(value='')))"
            ]
          },
          "metadata": {
            "tags": []
          }
        },
        {
          "output_type": "stream",
          "text": [
            "epoch: 0, train/test loss: 0.46491362987195745/0.2739493418484926, train/test metric: 0.6533850733848179/0.7534513771533966\n",
            "epoch: 1, train/test loss: 0.3719242613981752/0.22253074683248997, train/test metric: 0.7057192781392265/0.7981129437685013\n",
            "epoch: 2, train/test loss: 0.34935835398295345/0.22328398562967777, train/test metric: 0.716450101312469/0.7848866730928421\n",
            "epoch: 3, train/test loss: 0.33075491667670365/0.1867792084813118, train/test metric: 0.7348155878922519/0.8354608714580536\n",
            "epoch: 4, train/test loss: 0.30519991543363123/0.19141213968396187, train/test metric: 0.7489737885839799/0.8125858753919601\n",
            "epoch: 5, train/test loss: 0.29565468036076603/0.1723797284066677, train/test metric: 0.7561299152234021/0.8371811062097549\n",
            "epoch: 6, train/test loss: 0.28555100542657513/0.16702477633953094, train/test metric: 0.757293271667817/0.8329689726233482\n",
            "epoch: 7, train/test loss: 0.27608312534935336/0.1723922323435545, train/test metric: 0.7663210998563206/0.8309249356389046\n",
            "epoch: 8, train/test loss: 0.2747949883341789/0.1765490174293518, train/test metric: 0.7649764216998044/0.8305274397134781\n",
            "epoch: 9, train/test loss: 0.26233980015796776/0.17197631765156984, train/test metric: 0.7729532525819891/0.8313671350479126\n",
            "epoch: 10, train/test loss: 0.26271696257240634/0.15357218775898218, train/test metric: 0.7732160512138816/0.8491708189249039\n",
            "epoch: 11, train/test loss: 0.25913785726708527/0.16363198962062597, train/test metric: 0.7705142007154577/0.8345437273383141\n",
            "epoch: 12, train/test loss: 0.26112405298387303/0.16088288091123104, train/test metric: 0.7703500775729909/0.8535938188433647\n",
            "epoch: 13, train/test loss: 0.2604447833317168/0.16192504484206438, train/test metric: 0.773364898036508/0.8310929834842682\n",
            "epoch: 14, train/test loss: 0.25078212163027597/0.1667942088097334, train/test metric: 0.7717277688138625/0.836818590760231\n",
            "epoch: 15, train/test loss: 0.25958117448231754/0.14431656757369637, train/test metric: 0.7749349396018421/0.8542396724224091\n",
            "epoch: 16, train/test loss: 0.25577251503572745/0.16964920610189438, train/test metric: 0.7796262949705124/0.8271621614694595\n",
            "epoch: 17, train/test loss: 0.24424817632226384/0.1832009218633175, train/test metric: 0.7816627533996806/0.8189166337251663\n",
            "epoch: 18, train/test loss: 0.24128020028857625/0.14122369047254324, train/test metric: 0.7825177697574391/0.8552920147776604\n",
            "epoch: 19, train/test loss: 0.2464039724539308/0.1498323674313724, train/test metric: 0.7765526964383966/0.8417620062828064\n",
            "epoch: 20, train/test loss: 0.23955856899128242/0.15675321221351624, train/test metric: 0.7824197560548782/0.8387868106365204\n",
            "epoch: 21, train/test loss: 0.2435283419840476/0.14074369193986058, train/test metric: 0.7803409222294303/0.8512107729911804\n",
            "epoch: 22, train/test loss: 0.23036874589674614/0.13562628347426653, train/test metric: 0.7967919812482946/0.8585179150104523\n",
            "epoch: 23, train/test loss: 0.24391423735548468/0.1488473666831851, train/test metric: 0.7828252289225074/0.8518073186278343\n",
            "epoch: 24, train/test loss: 0.24160683527588844/0.13804555544629693, train/test metric: 0.7789903484723147/0.8544211238622665\n",
            "epoch: 25, train/test loss: 0.23503229810911067/0.1465112641453743, train/test metric: 0.7849459718255436/0.8451670259237289\n",
            "epoch: 26, train/test loss: 0.23578161833917394/0.15727601945400238, train/test metric: 0.7849253074211233/0.8428685218095779\n",
            "epoch: 27, train/test loss: 0.23310160352026715/0.14193089632317424, train/test metric: 0.7870892487904605/0.8567399084568024\n",
            "epoch: 28, train/test loss: 0.23739392748650381/0.1534254727885127, train/test metric: 0.7923229327973198/0.8400701507925987\n",
            "epoch: 29, train/test loss: 0.22747383573476007/0.1316852723248303, train/test metric: 0.7907335609197617/0.8613663911819458\n",
            "\n"
          ],
          "name": "stdout"
        }
      ]
    },
    {
      "cell_type": "code",
      "metadata": {
        "colab": {
          "base_uri": "https://localhost:8080/",
          "height": 295
        },
        "id": "AHI2Plqabwh3",
        "outputId": "0df742c4-026a-4eb3-c65a-d87061379fcb"
      },
      "source": [
        "fig = plt.figure()\n",
        "ax = fig.add_subplot(111)\n",
        "ax.set_title('LinkNet CE and dice weighted (0.7/0.3) loss on epoch number')\n",
        "ax.set_xlabel('epoch number')\n",
        "ax.set_ylabel('loss')\n",
        "ax.plot(list(range(num_epoch)), linknet_ce_dice_train_loss_on_epoch, label='train')\n",
        "ax.plot(list(range(num_epoch)), linknet_ce_dice_test_loss_on_epoch, label='test')\n",
        "plt.grid()\n",
        "plt.legend()\n",
        "plt.show()"
      ],
      "execution_count": null,
      "outputs": [
        {
          "output_type": "display_data",
          "data": {
            "image/png": "[encoded data removed]",
            "text/plain": [
              "<Figure size 432x288 with 1 Axes>"
            ]
          },
          "metadata": {
            "tags": [],
            "needs_background": "light"
          }
        }
      ]
    },
    {
      "cell_type": "code",
      "metadata": {
        "colab": {
          "base_uri": "https://localhost:8080/",
          "height": 295
        },
        "id": "ta7VrFQacNa9",
        "outputId": "891cf2e2-fe6e-49f8-ab2d-b64db518ff27"
      },
      "source": [
        "fig = plt.figure()\n",
        "ax = fig.add_subplot(111)\n",
        "ax.set_title('LinkNet (CE and dice weighted (0.7/0.3) loss) dice score on epoch number')\n",
        "ax.set_xlabel('epoch number')\n",
        "ax.set_ylabel('score')\n",
        "ax.plot(list(range(num_epoch)), linknet_ce_dice_train_metric_on_epoch, label='train')\n",
        "ax.plot(list(range(num_epoch)), linknet_ce_dice_test_metric_on_epoch, label='test')\n",
        "plt.grid()\n",
        "plt.legend()\n",
        "plt.show()"
      ],
      "execution_count": null,
      "outputs": [
        {
          "output_type": "display_data",
          "data": {
            "image/png": "[encoded data removed]",
            "text/plain": [
              "<Figure size 432x288 with 1 Axes>"
            ]
          },
          "metadata": {
            "tags": [],
            "needs_background": "light"
          }
        }
      ]
    },
    {
      "cell_type": "markdown",
      "metadata": {
        "id": "U-aqSjKMggds"
      },
      "source": [
        "Предсказания LinkNet с взвешенной суммой CE loss и dice loss:"
      ]
    },
    {
      "cell_type": "code",
      "metadata": {
        "colab": {
          "base_uri": "https://localhost:8080/",
          "height": 287
        },
        "id": "qcNHy9eeggpo",
        "outputId": "ef5ba1a4-b9cc-4801-f81e-67211760b365"
      },
      "source": [
        "linknet_ce_dice.eval()\n",
        "with torch.no_grad():\n",
        "    inputs, labels = next(iter(test_data_loader))\n",
        "    inputs = inputs.to(device)\n",
        "    labels = labels.to(device)\n",
        "    preds = linknet_ce_dice(inputs)\n",
        "    preds = torch.sigmoid(preds)\n",
        "    pred1 = (torch.squeeze(preds[0].cpu().data, 0).numpy() > 0.5).astype('int') * 255\n",
        "    label1 = labels[0].cpu().data.numpy()\n",
        "    pred2 = (torch.squeeze(preds[1].cpu().data, 0).numpy() > 0.5).astype('int') * 255\n",
        "    label2 = labels[1].cpu().data.numpy()\n",
        "    fig, ((ax1, ax2), (ax3, ax4)) = plt.subplots(2, 2)\n",
        "    ax1.imshow(label1)\n",
        "    ax2.imshow(pred1)\n",
        "    ax3.imshow(label2)\n",
        "    ax4.imshow(pred2)\n",
        "plt.plot()"
      ],
      "execution_count": null,
      "outputs": [
        {
          "output_type": "execute_result",
          "data": {
            "text/plain": [
              "[]"
            ]
          },
          "metadata": {
            "tags": []
          },
          "execution_count": 90
        },
        {
          "output_type": "display_data",
          "data": {
            "image/png": "[encoded data removed]",
            "text/plain": [
              "<Figure size 432x288 with 4 Axes>"
            ]
          },
          "metadata": {
            "tags": [],
            "needs_background": "light"
          }
        }
      ]
    },
    {
      "cell_type": "markdown",
      "metadata": {
        "id": "C7aI7CwggpAz"
      },
      "source": [
        "## Выводы\n",
        "1. Лучшее качество сегментации показала сеть UNet с CE loss.\n",
        "2. Худшее качество сегментации показала сеть LinkNet с dice loss."
      ]
    }
  ]
}
